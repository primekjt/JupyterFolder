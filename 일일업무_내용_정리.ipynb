{
 "cells": [
  {
   "cell_type": "code",
   "execution_count": 73,
   "metadata": {},
   "outputs": [],
   "source": [
    "from openpyxl import Workbook, load_workbook\n",
    "import datetime\n",
    "import re"
   ]
  },
  {
   "cell_type": "code",
   "execution_count": 101,
   "metadata": {},
   "outputs": [
    {
     "name": "stdout",
     "output_type": "stream",
     "text": [
      "['Sheet1']\n"
     ]
    }
   ],
   "source": [
    "file_path = 'C:/Job/일일업무_내용_정리.xlsx'\n",
    "wb = load_workbook(file_path)\n",
    "print(wb.sheetnames)\n",
    "#wb.save(\"C:/Job/sample.xlsx\")\n",
    "#wb.close()"
   ]
  },
  {
   "cell_type": "code",
   "execution_count": 102,
   "metadata": {},
   "outputs": [
    {
     "name": "stdout",
     "output_type": "stream",
     "text": [
      "2019-01-03 00:00:00\n"
     ]
    }
   ],
   "source": [
    "#ws = wb.active\n",
    "ws = wb['Sheet1']\n",
    "print(ws.cell(row = 2, column = 1).value)            "
   ]
  },
  {
   "cell_type": "code",
   "execution_count": 103,
   "metadata": {},
   "outputs": [
    {
     "name": "stdout",
     "output_type": "stream",
     "text": [
      "rows: 79 , cols: 3\n"
     ]
    }
   ],
   "source": [
    "row_cnt = ws.max_row\n",
    "col_cnt = ws.max_column\n",
    "print('rows: %d , cols: %d' % (row_cnt, col_cnt))\n",
    "\n",
    "#ws1 = wb.copy_worksheet(ws) # worksheet copy"
   ]
  },
  {
   "cell_type": "code",
   "execution_count": 104,
   "metadata": {},
   "outputs": [
    {
     "name": "stdout",
     "output_type": "stream",
     "text": [
      "\n",
      "데이터 역이관 요청] (주)태경피엔에스 (206-86-72538)\n",
      "수신자 : 강민수차장, 송용배과장, 황상순대리, IDC운영팀\n",
      "참조: 수신자 제위\n",
      "발신: 김진태 부장\n",
      "\n"
     ]
    }
   ],
   "source": [
    "text = \"\"\"\n",
    "데이터 역이관 요청] (주)태경피엔에스 (206-86-72538)\n",
    "\n",
    "수신자 : 강민수차장, 송용배과장, 황상순대리, IDC운영팀\n",
    "\n",
    "참조: 수신자 제위\n",
    "\n",
    "발신: 김진태 부장\n",
    "\"\"\"\n",
    "pattern = re.compile(r'\\n+')\n",
    "match = re.sub(pattern, '\\n', text) # 빈 줄 제거\n",
    "print(match)"
   ]
  },
  {
   "cell_type": "code",
   "execution_count": 105,
   "metadata": {},
   "outputs": [
    {
     "name": "stdout",
     "output_type": "stream",
     "text": [
      "cel[76:2] : \n",
      "cel[77:2] : \n",
      "cel[78:2] : \n",
      "cel[79:2] : \n"
     ]
    }
   ],
   "source": [
    "for y in range(1, row_cnt):\n",
    "    row_idx = y+1\n",
    "    org_value = ws.cell(row = row_idx, column = 2).value\n",
    "    if org_value:\n",
    "        match = re.sub(pattern, '\\n', org_value) # 빈 줄 제거\n",
    "        # 원본Cell 옆으로 수정본Cell 추가\n",
    "        #ws.cell(row=row_idx, column=3).value = match\n",
    "        # 원본Cell에 바로 수정 반영\n",
    "        ws.cell(row=row_idx, column=2).value = match\n",
    "    else:\n",
    "        print('cel[{0}:{1}] : '.format(row_idx, 2, org_value))\n",
    "    #print(match)\n"
   ]
  },
  {
   "cell_type": "code",
   "execution_count": null,
   "metadata": {},
   "outputs": [],
   "source": [
    "import types\n",
    "for row in ws.rows:\n",
    "    for cell in row:\n",
    "        cell_value = cell.value\n",
    "        if cell_value:\n",
    "            print(type(cell))\n",
    "            \"\"\"\n",
    "            if type(cell.value) == Types.StringType):\n",
    "                print('string')\n",
    "            else:\n",
    "                print(type(cell.value))\n",
    "            \"\"\"\n",
    "            print(\"\"*25)\n",
    "        else:\n",
    "            print(\"*None\")\n"
   ]
  },
  {
   "cell_type": "code",
   "execution_count": 106,
   "metadata": {},
   "outputs": [],
   "source": [
    "wb.save(\"C:/Job/일일업무_내용_정리_.xlsx\")\n",
    "wb.close()"
   ]
  },
  {
   "cell_type": "code",
   "execution_count": null,
   "metadata": {},
   "outputs": [],
   "source": []
  }
 ],
 "metadata": {
  "kernelspec": {
   "display_name": "Python 3",
   "language": "python",
   "name": "python3"
  },
  "language_info": {
   "codemirror_mode": {
    "name": "ipython",
    "version": 3
   },
   "file_extension": ".py",
   "mimetype": "text/x-python",
   "name": "python",
   "nbconvert_exporter": "python",
   "pygments_lexer": "ipython3",
   "version": "3.7.3"
  }
 },
 "nbformat": 4,
 "nbformat_minor": 2
}
