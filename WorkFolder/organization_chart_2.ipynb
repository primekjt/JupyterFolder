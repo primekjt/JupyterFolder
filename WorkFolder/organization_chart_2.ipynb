{
 "cells": [
  {
   "cell_type": "code",
   "execution_count": 1,
   "metadata": {},
   "outputs": [],
   "source": [
    "import pandas as pd\n",
    "import xlrd\n",
    "import os\n",
    "import re\n",
    "import datetime"
   ]
  },
  {
   "cell_type": "code",
   "execution_count": 2,
   "metadata": {},
   "outputs": [],
   "source": [
    "DATA_PATH = \"C:\\\\Temp\\\\NsmData\\\\\"\n",
    "file_name = \"BizboxA_OrgListAll_20190515.xls\"\n",
    "excel_file = DATA_PATH + file_name"
   ]
  },
  {
   "cell_type": "code",
   "execution_count": 3,
   "metadata": {},
   "outputs": [],
   "source": [
    "if not os.path.exists(excel_file):\n",
    "    print('실패! ' + excel_file + ' file not found!! ')\n",
    "    print('Exists files :')\n",
    "    print(os.listdir(DATA_PATH))\n",
    "    #exit()"
   ]
  },
  {
   "cell_type": "code",
   "execution_count": 4,
   "metadata": {},
   "outputs": [],
   "source": [
    "df = pd.read_excel(excel_file, Sheet_name='Sheet1')"
   ]
  },
  {
   "cell_type": "code",
   "execution_count": 17,
   "metadata": {},
   "outputs": [
    {
     "name": "stdout",
     "output_type": "stream",
     "text": [
      "조회 건수 : 1421건\n"
     ]
    },
    {
     "data": {
      "text/html": [
       "<div>\n",
       "<style scoped>\n",
       "    .dataframe tbody tr th:only-of-type {\n",
       "        vertical-align: middle;\n",
       "    }\n",
       "\n",
       "    .dataframe tbody tr th {\n",
       "        vertical-align: top;\n",
       "    }\n",
       "\n",
       "    .dataframe thead th {\n",
       "        text-align: right;\n",
       "    }\n",
       "</style>\n",
       "<table border=\"1\" class=\"dataframe\">\n",
       "  <thead>\n",
       "    <tr style=\"text-align: right;\">\n",
       "      <th></th>\n",
       "      <th>부서명</th>\n",
       "      <th>직급</th>\n",
       "      <th>사원명(ID)</th>\n",
       "      <th>회사메일</th>\n",
       "    </tr>\n",
       "  </thead>\n",
       "  <tbody>\n",
       "    <tr>\n",
       "      <th>980</th>\n",
       "      <td>더존비즈온&gt;TS본부&gt;경기IT코디센터&gt;팀원</td>\n",
       "      <td>대리</td>\n",
       "      <td>강석준(firenights85)</td>\n",
       "      <td>firenights85@douzone.com</td>\n",
       "    </tr>\n",
       "  </tbody>\n",
       "</table>\n",
       "</div>"
      ],
      "text/plain": [
       "                        부서명  직급            사원명(ID)                      회사메일\n",
       "980  더존비즈온>TS본부>경기IT코디센터>팀원  대리  강석준(firenights85)  firenights85@douzone.com"
      ]
     },
     "execution_count": 17,
     "metadata": {},
     "output_type": "execute_result"
    }
   ],
   "source": [
    "#read_columns = ['부서명', '직급', '사원명(ID)', '휴대전화', '회사메일']\n",
    "read_columns = ['부서명', '직급', '사원명(ID)', '회사메일']\n",
    "df1 = df[read_columns]\n",
    "print('조회 건수 : %d건' % df1.shape[0])\n",
    "#df1[df1['사원명(ID)'].str.startswith('강석준')]   # 특정 사용자 검색\n",
    "df1.head(3)"
   ]
  },
  {
   "cell_type": "code",
   "execution_count": 6,
   "metadata": {},
   "outputs": [
    {
     "name": "stdout",
     "output_type": "stream",
     "text": [
      "1.17 ms ± 23.7 µs per loop (mean ± std. dev. of 7 runs, 1000 loops each)\n",
      "------------------------------\n"
     ]
    },
    {
     "name": "stderr",
     "output_type": "stream",
     "text": [
      "C:\\ProgramData\\Anaconda3\\lib\\site-packages\\ipykernel_launcher.py:1: UserWarning: This pattern has match groups. To actually get the groups, use str.extract.\n",
      "  \"\"\"Entry point for launching an IPython kernel.\n"
     ]
    },
    {
     "name": "stdout",
     "output_type": "stream",
     "text": [
      "2.83 ms ± 64.9 µs per loop (mean ± std. dev. of 7 runs, 100 loops each)\n"
     ]
    }
   ],
   "source": [
    "# 연산속도 비교 테스트\n",
    "%timeit df1[df1['부서명'].str.match(r'.*IT코디센터>(센터장|팀원|팀장)$')] #IT코디센터 팀명 발췌\n",
    "print('-'*30)\n",
    "%timeit df1[df1['부서명'].str.contains(r'.*IT코디센터>(센터장|팀원|팀장)$', regex=True)] #IT코디센터 팀명 발췌"
   ]
  },
  {
   "cell_type": "code",
   "execution_count": 9,
   "metadata": {},
   "outputs": [
    {
     "name": "stdout",
     "output_type": "stream",
     "text": [
      "조회 건수 : 178건\n"
     ]
    },
    {
     "data": {
      "text/html": [
       "<div>\n",
       "<style scoped>\n",
       "    .dataframe tbody tr th:only-of-type {\n",
       "        vertical-align: middle;\n",
       "    }\n",
       "\n",
       "    .dataframe tbody tr th {\n",
       "        vertical-align: top;\n",
       "    }\n",
       "\n",
       "    .dataframe thead th {\n",
       "        text-align: right;\n",
       "    }\n",
       "</style>\n",
       "<table border=\"1\" class=\"dataframe\">\n",
       "  <thead>\n",
       "    <tr style=\"text-align: right;\">\n",
       "      <th></th>\n",
       "      <th>부서명</th>\n",
       "      <th>직급</th>\n",
       "      <th>사원명(ID)</th>\n",
       "      <th>회사메일</th>\n",
       "    </tr>\n",
       "  </thead>\n",
       "  <tbody>\n",
       "    <tr>\n",
       "      <th>972</th>\n",
       "      <td>더존비즈온&gt;TS본부&gt;강원지점&gt;팀원</td>\n",
       "      <td>사원</td>\n",
       "      <td>박종현(cobo1113)</td>\n",
       "      <td>cobo1113@douzone.com</td>\n",
       "    </tr>\n",
       "    <tr>\n",
       "      <th>973</th>\n",
       "      <td>더존비즈온&gt;TS본부&gt;강원지점&gt;팀원</td>\n",
       "      <td>사원</td>\n",
       "      <td>김진호A(kimjh3141)</td>\n",
       "      <td>kimjh3141@douzone.com</td>\n",
       "    </tr>\n",
       "    <tr>\n",
       "      <th>974</th>\n",
       "      <td>더존비즈온&gt;TS본부&gt;강원지점&gt;팀장</td>\n",
       "      <td>부장</td>\n",
       "      <td>윤명현(hot8714)</td>\n",
       "      <td>hot8714@douzone.com</td>\n",
       "    </tr>\n",
       "  </tbody>\n",
       "</table>\n",
       "</div>"
      ],
      "text/plain": [
       "                    부서명  직급          사원명(ID)                   회사메일\n",
       "972  더존비즈온>TS본부>강원지점>팀원  사원    박종현(cobo1113)   cobo1113@douzone.com\n",
       "973  더존비즈온>TS본부>강원지점>팀원  사원  김진호A(kimjh3141)  kimjh3141@douzone.com\n",
       "974  더존비즈온>TS본부>강원지점>팀장  부장     윤명현(hot8714)    hot8714@douzone.com"
      ]
     },
     "execution_count": 9,
     "metadata": {},
     "output_type": "execute_result"
    }
   ],
   "source": [
    "#IT코디센터, 강원지점, 제주지점 팀명 발췌\n",
    "df2 = df1[df1['부서명'].str.match(r'.*(IT코디센터|강원지점|제주지점)>(센터장|팀원|팀장)$')] \n",
    "print('조회 건수 : %d건' % df2.shape[0])\n",
    "df2.head(3)"
   ]
  },
  {
   "cell_type": "code",
   "execution_count": 19,
   "metadata": {},
   "outputs": [
    {
     "name": "stdout",
     "output_type": "stream",
     "text": [
      "조회 건수 : 178건\n",
      "서울4      19\n",
      "대구/경북    18\n",
      "서울1      17\n",
      "서울2      16\n",
      "서울3      16\n",
      "경기       13\n",
      "부산       12\n",
      "경남       11\n",
      "인천       10\n",
      "중부        9\n",
      "전주        8\n",
      "천안        8\n",
      "호남        8\n",
      "울산        7\n",
      "강원        3\n",
      "제주        3\n",
      "Name: 센터명, dtype: int64\n"
     ]
    },
    {
     "data": {
      "text/html": [
       "<div>\n",
       "<style scoped>\n",
       "    .dataframe tbody tr th:only-of-type {\n",
       "        vertical-align: middle;\n",
       "    }\n",
       "\n",
       "    .dataframe tbody tr th {\n",
       "        vertical-align: top;\n",
       "    }\n",
       "\n",
       "    .dataframe thead th {\n",
       "        text-align: right;\n",
       "    }\n",
       "</style>\n",
       "<table border=\"1\" class=\"dataframe\">\n",
       "  <thead>\n",
       "    <tr style=\"text-align: right;\">\n",
       "      <th></th>\n",
       "      <th>부서명</th>\n",
       "      <th>직급</th>\n",
       "      <th>사원명(ID)</th>\n",
       "      <th>회사메일</th>\n",
       "    </tr>\n",
       "  </thead>\n",
       "  <tbody>\n",
       "    <tr>\n",
       "      <th>980</th>\n",
       "      <td>더존비즈온&gt;TS본부&gt;경기IT코디센터&gt;팀원</td>\n",
       "      <td>대리</td>\n",
       "      <td>강석준(firenights85)</td>\n",
       "      <td>firenights85@douzone.com</td>\n",
       "    </tr>\n",
       "  </tbody>\n",
       "</table>\n",
       "</div>"
      ],
      "text/plain": [
       "                        부서명  직급            사원명(ID)                      회사메일\n",
       "980  더존비즈온>TS본부>경기IT코디센터>팀원  대리  강석준(firenights85)  firenights85@douzone.com"
      ]
     },
     "execution_count": 19,
     "metadata": {},
     "output_type": "execute_result"
    }
   ],
   "source": [
    "\n",
    "s1 = df2.loc[:, '부서명'].str.replace(r'(.*?>TS본부>)|(.*?>IT코디센터>)|((IT코디센터|지점)>(센터장|팀원|팀장)$)', '') # IT코디센터 이름만 추출하여 새컬럼에 반영\n",
    "df2.loc[:, '센터명'] = s1\n",
    "print('조회 건수 : %d건' % df2.shape[0])\n",
    "print(df2['센터명'].value_counts())\n",
    "df2.head(3)"
   ]
  },
  {
   "cell_type": "code",
   "execution_count": 12,
   "metadata": {},
   "outputs": [
    {
     "data": {
      "text/html": [
       "<div>\n",
       "<style scoped>\n",
       "    .dataframe tbody tr th:only-of-type {\n",
       "        vertical-align: middle;\n",
       "    }\n",
       "\n",
       "    .dataframe tbody tr th {\n",
       "        vertical-align: top;\n",
       "    }\n",
       "\n",
       "    .dataframe thead th {\n",
       "        text-align: right;\n",
       "    }\n",
       "</style>\n",
       "<table border=\"1\" class=\"dataframe\">\n",
       "  <thead>\n",
       "    <tr style=\"text-align: right;\">\n",
       "      <th></th>\n",
       "      <th>부서명</th>\n",
       "      <th>직급</th>\n",
       "      <th>사원명(ID)</th>\n",
       "      <th>회사메일</th>\n",
       "      <th>센터명</th>\n",
       "      <th>사원명</th>\n",
       "      <th>ID</th>\n",
       "    </tr>\n",
       "  </thead>\n",
       "  <tbody>\n",
       "    <tr>\n",
       "      <th>972</th>\n",
       "      <td>더존비즈온&gt;TS본부&gt;강원지점&gt;팀원</td>\n",
       "      <td>사원</td>\n",
       "      <td>박종현(cobo1113)</td>\n",
       "      <td>cobo1113@douzone.com</td>\n",
       "      <td>강원</td>\n",
       "      <td>박종현</td>\n",
       "      <td>cobo1113</td>\n",
       "    </tr>\n",
       "    <tr>\n",
       "      <th>973</th>\n",
       "      <td>더존비즈온&gt;TS본부&gt;강원지점&gt;팀원</td>\n",
       "      <td>사원</td>\n",
       "      <td>김진호A(kimjh3141)</td>\n",
       "      <td>kimjh3141@douzone.com</td>\n",
       "      <td>강원</td>\n",
       "      <td>김진호</td>\n",
       "      <td>kimjh3141</td>\n",
       "    </tr>\n",
       "    <tr>\n",
       "      <th>974</th>\n",
       "      <td>더존비즈온&gt;TS본부&gt;강원지점&gt;팀장</td>\n",
       "      <td>부장</td>\n",
       "      <td>윤명현(hot8714)</td>\n",
       "      <td>hot8714@douzone.com</td>\n",
       "      <td>강원</td>\n",
       "      <td>윤명현</td>\n",
       "      <td>hot8714</td>\n",
       "    </tr>\n",
       "    <tr>\n",
       "      <th>975</th>\n",
       "      <td>더존비즈온&gt;TS본부&gt;경기IT코디센터&gt;센터장</td>\n",
       "      <td>부장</td>\n",
       "      <td>김경한(threego)</td>\n",
       "      <td>threego@douzone.com</td>\n",
       "      <td>경기</td>\n",
       "      <td>김경한</td>\n",
       "      <td>threego</td>\n",
       "    </tr>\n",
       "    <tr>\n",
       "      <th>976</th>\n",
       "      <td>더존비즈온&gt;TS본부&gt;경기IT코디센터&gt;팀원</td>\n",
       "      <td>차장</td>\n",
       "      <td>김완주(hemikwj05)</td>\n",
       "      <td>hemikwj05@douzone.com</td>\n",
       "      <td>경기</td>\n",
       "      <td>김완주</td>\n",
       "      <td>hemikwj05</td>\n",
       "    </tr>\n",
       "  </tbody>\n",
       "</table>\n",
       "</div>"
      ],
      "text/plain": [
       "                         부서명  직급          사원명(ID)                   회사메일 센터명  \\\n",
       "972       더존비즈온>TS본부>강원지점>팀원  사원    박종현(cobo1113)   cobo1113@douzone.com  강원   \n",
       "973       더존비즈온>TS본부>강원지점>팀원  사원  김진호A(kimjh3141)  kimjh3141@douzone.com  강원   \n",
       "974       더존비즈온>TS본부>강원지점>팀장  부장     윤명현(hot8714)    hot8714@douzone.com  강원   \n",
       "975  더존비즈온>TS본부>경기IT코디센터>센터장  부장     김경한(threego)    threego@douzone.com  경기   \n",
       "976   더존비즈온>TS본부>경기IT코디센터>팀원  차장   김완주(hemikwj05)  hemikwj05@douzone.com  경기   \n",
       "\n",
       "     사원명         ID  \n",
       "972  박종현   cobo1113  \n",
       "973  김진호  kimjh3141  \n",
       "974  윤명현    hot8714  \n",
       "975  김경한    threego  \n",
       "976  김완주  hemikwj05  "
      ]
     },
     "execution_count": 12,
     "metadata": {},
     "output_type": "execute_result"
    }
   ],
   "source": [
    "# 사원명 , ID 추가\n",
    "df2.loc[:, '사원명'] = df2.loc[:, '사원명(ID)'].str.replace(r'[^가-힣]', '') # 한글 이름 이외 글자 제거 (한글이름, 영문제외)\n",
    "df2.loc[:, 'ID'] = df2.loc[:, '사원명(ID)'].str.replace(r'([가-힣]|([a-zA-Z]\\()|\\(|\\))', '') # 가로안의 ID이외 글자 제거\n",
    "df2.head(5)"
   ]
  },
  {
   "cell_type": "code",
   "execution_count": 197,
   "metadata": {},
   "outputs": [
    {
     "name": "stdout",
     "output_type": "stream",
     "text": [
      "조회 건수 : 175건\n"
     ]
    },
    {
     "data": {
      "text/html": [
       "<div>\n",
       "<style scoped>\n",
       "    .dataframe tbody tr th:only-of-type {\n",
       "        vertical-align: middle;\n",
       "    }\n",
       "\n",
       "    .dataframe tbody tr th {\n",
       "        vertical-align: top;\n",
       "    }\n",
       "\n",
       "    .dataframe thead th {\n",
       "        text-align: right;\n",
       "    }\n",
       "</style>\n",
       "<table border=\"1\" class=\"dataframe\">\n",
       "  <thead>\n",
       "    <tr style=\"text-align: right;\">\n",
       "      <th></th>\n",
       "      <th>부서명</th>\n",
       "      <th>직급</th>\n",
       "      <th>사원명(ID)</th>\n",
       "      <th>회사메일</th>\n",
       "      <th>센터명</th>\n",
       "      <th>사원명</th>\n",
       "      <th>ID</th>\n",
       "      <th>직급코드</th>\n",
       "    </tr>\n",
       "  </thead>\n",
       "  <tbody>\n",
       "    <tr>\n",
       "      <th>963</th>\n",
       "      <td>더존비즈온&gt;TS본부&gt;강원지점&gt;팀원</td>\n",
       "      <td>사원</td>\n",
       "      <td>박종현(cobo1113)</td>\n",
       "      <td>cobo1113@douzone.com</td>\n",
       "      <td>강원</td>\n",
       "      <td>박종현</td>\n",
       "      <td>cobo1113</td>\n",
       "      <td></td>\n",
       "    </tr>\n",
       "    <tr>\n",
       "      <th>964</th>\n",
       "      <td>더존비즈온&gt;TS본부&gt;강원지점&gt;팀원</td>\n",
       "      <td>사원</td>\n",
       "      <td>김진호A(kimjh3141)</td>\n",
       "      <td>kimjh3141@douzone.com</td>\n",
       "      <td>강원</td>\n",
       "      <td>김진호</td>\n",
       "      <td>kimjh3141</td>\n",
       "      <td></td>\n",
       "    </tr>\n",
       "    <tr>\n",
       "      <th>965</th>\n",
       "      <td>더존비즈온&gt;TS본부&gt;강원지점&gt;팀장</td>\n",
       "      <td>부장</td>\n",
       "      <td>윤명현(hot8714)</td>\n",
       "      <td>hot8714@douzone.com</td>\n",
       "      <td>강원</td>\n",
       "      <td>윤명현</td>\n",
       "      <td>hot8714</td>\n",
       "      <td>B</td>\n",
       "    </tr>\n",
       "  </tbody>\n",
       "</table>\n",
       "</div>"
      ],
      "text/plain": [
       "                    부서명  직급          사원명(ID)                   회사메일 센터명  사원명  \\\n",
       "963  더존비즈온>TS본부>강원지점>팀원  사원    박종현(cobo1113)   cobo1113@douzone.com  강원  박종현   \n",
       "964  더존비즈온>TS본부>강원지점>팀원  사원  김진호A(kimjh3141)  kimjh3141@douzone.com  강원  김진호   \n",
       "965  더존비즈온>TS본부>강원지점>팀장  부장     윤명현(hot8714)    hot8714@douzone.com  강원  윤명현   \n",
       "\n",
       "            ID 직급코드  \n",
       "963   cobo1113       \n",
       "964  kimjh3141       \n",
       "965    hot8714    B  "
      ]
     },
     "execution_count": 197,
     "metadata": {},
     "output_type": "execute_result"
    }
   ],
   "source": [
    "# 직급코드 추가\n",
    "level_categories = {'사원':'', '대리':'D', '과장':'K', '차장':'C', '부장':'B', '이사':'E', '상무':'S', '전무':'J'}\n",
    "\n",
    "# method 1\n",
    "df2.loc[:,'직급코드'] = df2['직급'].apply(lambda x : level_categories[x])   \n",
    "\n",
    "# method 2  cf. level_categories.get('과장') return 'k'\n",
    "#df2.loc[:,'직급코드']  = df2[['직급']].applymap(level_categories.get)   \n",
    "\n",
    "print('조회 건수 : %d건' % df2.shape[0])\n",
    "\n",
    "df2.head(3)"
   ]
  },
  {
   "cell_type": "code",
   "execution_count": 202,
   "metadata": {},
   "outputs": [],
   "source": [
    "df2.to_csv('./data/center_employee.csv', index = False, header = True, encoding='utf-8')"
   ]
  },
  {
   "cell_type": "code",
   "execution_count": 203,
   "metadata": {},
   "outputs": [
    {
     "data": {
      "text/html": [
       "<div>\n",
       "<style scoped>\n",
       "    .dataframe tbody tr th:only-of-type {\n",
       "        vertical-align: middle;\n",
       "    }\n",
       "\n",
       "    .dataframe tbody tr th {\n",
       "        vertical-align: top;\n",
       "    }\n",
       "\n",
       "    .dataframe thead th {\n",
       "        text-align: right;\n",
       "    }\n",
       "</style>\n",
       "<table border=\"1\" class=\"dataframe\">\n",
       "  <thead>\n",
       "    <tr style=\"text-align: right;\">\n",
       "      <th></th>\n",
       "      <th>직급</th>\n",
       "      <th>직급코드</th>\n",
       "    </tr>\n",
       "  </thead>\n",
       "  <tbody>\n",
       "    <tr>\n",
       "      <th>0</th>\n",
       "      <td>사원</td>\n",
       "      <td></td>\n",
       "    </tr>\n",
       "    <tr>\n",
       "      <th>1</th>\n",
       "      <td>대리</td>\n",
       "      <td>D</td>\n",
       "    </tr>\n",
       "    <tr>\n",
       "      <th>2</th>\n",
       "      <td>과장</td>\n",
       "      <td>K</td>\n",
       "    </tr>\n",
       "    <tr>\n",
       "      <th>3</th>\n",
       "      <td>차장</td>\n",
       "      <td>C</td>\n",
       "    </tr>\n",
       "    <tr>\n",
       "      <th>4</th>\n",
       "      <td>부장</td>\n",
       "      <td>B</td>\n",
       "    </tr>\n",
       "    <tr>\n",
       "      <th>5</th>\n",
       "      <td>이사</td>\n",
       "      <td>E</td>\n",
       "    </tr>\n",
       "    <tr>\n",
       "      <th>6</th>\n",
       "      <td>상무</td>\n",
       "      <td>S</td>\n",
       "    </tr>\n",
       "    <tr>\n",
       "      <th>7</th>\n",
       "      <td>전무</td>\n",
       "      <td>J</td>\n",
       "    </tr>\n",
       "  </tbody>\n",
       "</table>\n",
       "</div>"
      ],
      "text/plain": [
       "   직급 직급코드\n",
       "0  사원     \n",
       "1  대리    D\n",
       "2  과장    K\n",
       "3  차장    C\n",
       "4  부장    B\n",
       "5  이사    E\n",
       "6  상무    S\n",
       "7  전무    J"
      ]
     },
     "execution_count": 203,
     "metadata": {},
     "output_type": "execute_result"
    }
   ],
   "source": [
    "df3 = pd.DataFrame({\"직급\":['사원', '대리', '과장', '차장', '부장', '이사', '상무', '전무'], \n",
    "     '직급코드':['', 'D', 'K', 'C', 'B', 'E', 'S', 'J']})\n",
    "df3"
   ]
  },
  {
   "cell_type": "code",
   "execution_count": 140,
   "metadata": {},
   "outputs": [],
   "source": [
    "df_sale = pd.DataFrame({\"연봉\":[100, 200, 300, 400, 500, 600, 700, 800], \n",
    "     '직급코드':['', 'D', 'K', 'C', 'B', 'E', 'S', 'J']})"
   ]
  },
  {
   "cell_type": "code",
   "execution_count": 142,
   "metadata": {},
   "outputs": [
    {
     "data": {
      "text/html": [
       "<div>\n",
       "<style scoped>\n",
       "    .dataframe tbody tr th:only-of-type {\n",
       "        vertical-align: middle;\n",
       "    }\n",
       "\n",
       "    .dataframe tbody tr th {\n",
       "        vertical-align: top;\n",
       "    }\n",
       "\n",
       "    .dataframe thead th {\n",
       "        text-align: right;\n",
       "    }\n",
       "</style>\n",
       "<table border=\"1\" class=\"dataframe\">\n",
       "  <thead>\n",
       "    <tr style=\"text-align: right;\">\n",
       "      <th></th>\n",
       "      <th>직급</th>\n",
       "      <th>직급코드</th>\n",
       "      <th>연봉</th>\n",
       "    </tr>\n",
       "  </thead>\n",
       "  <tbody>\n",
       "    <tr>\n",
       "      <th>0</th>\n",
       "      <td>사원</td>\n",
       "      <td></td>\n",
       "      <td>100</td>\n",
       "    </tr>\n",
       "    <tr>\n",
       "      <th>1</th>\n",
       "      <td>대리</td>\n",
       "      <td>D</td>\n",
       "      <td>200</td>\n",
       "    </tr>\n",
       "    <tr>\n",
       "      <th>2</th>\n",
       "      <td>과장</td>\n",
       "      <td>K</td>\n",
       "      <td>300</td>\n",
       "    </tr>\n",
       "    <tr>\n",
       "      <th>3</th>\n",
       "      <td>차장</td>\n",
       "      <td>C</td>\n",
       "      <td>400</td>\n",
       "    </tr>\n",
       "    <tr>\n",
       "      <th>4</th>\n",
       "      <td>부장</td>\n",
       "      <td>B</td>\n",
       "      <td>500</td>\n",
       "    </tr>\n",
       "    <tr>\n",
       "      <th>5</th>\n",
       "      <td>이사</td>\n",
       "      <td>E</td>\n",
       "      <td>600</td>\n",
       "    </tr>\n",
       "    <tr>\n",
       "      <th>6</th>\n",
       "      <td>상무</td>\n",
       "      <td>S</td>\n",
       "      <td>700</td>\n",
       "    </tr>\n",
       "    <tr>\n",
       "      <th>7</th>\n",
       "      <td>전무</td>\n",
       "      <td>J</td>\n",
       "      <td>800</td>\n",
       "    </tr>\n",
       "  </tbody>\n",
       "</table>\n",
       "</div>"
      ],
      "text/plain": [
       "   직급 직급코드   연봉\n",
       "0  사원       100\n",
       "1  대리    D  200\n",
       "2  과장    K  300\n",
       "3  차장    C  400\n",
       "4  부장    B  500\n",
       "5  이사    E  600\n",
       "6  상무    S  700\n",
       "7  전무    J  800"
      ]
     },
     "execution_count": 142,
     "metadata": {},
     "output_type": "execute_result"
    }
   ],
   "source": [
    "pd.merge(df3, df_sale, on='직급코드')"
   ]
  },
  {
   "cell_type": "code",
   "execution_count": null,
   "metadata": {},
   "outputs": [],
   "source": []
  }
 ],
 "metadata": {
  "kernelspec": {
   "display_name": "Python 3",
   "language": "python",
   "name": "python3"
  },
  "language_info": {
   "codemirror_mode": {
    "name": "ipython",
    "version": 3
   },
   "file_extension": ".py",
   "mimetype": "text/x-python",
   "name": "python",
   "nbconvert_exporter": "python",
   "pygments_lexer": "ipython3",
   "version": "3.7.3"
  }
 },
 "nbformat": 4,
 "nbformat_minor": 2
}
