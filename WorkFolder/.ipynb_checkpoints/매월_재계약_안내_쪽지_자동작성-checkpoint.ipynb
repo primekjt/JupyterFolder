{
 "cells": [
  {
   "cell_type": "code",
   "execution_count": 1,
   "metadata": {},
   "outputs": [],
   "source": [
    "import pandas\n",
    "import openpyxl\n",
    "#import re #regex\n",
    "from datetime import datetime"
   ]
  },
  {
   "cell_type": "code",
   "execution_count": 109,
   "metadata": {},
   "outputs": [],
   "source": [
    "def get_header_001(center_name, month):\n",
    "    header = \"\"\"\n",
    "[재계약 리스트] {0}IT코디센터 2019년 {1} 재계약 리스트 전달 및 수주 등록 요청드립니다.\n",
    "수신 : {0}IT코디센터 센터장님, 영업담당자\n",
    "참조 : CLOUD사업팀\n",
    "발신 : 김진태 부장\n",
    "-----------------------------------------------\n",
    "안녕하십니까? 클라우드사업팀 김진태입니다\n",
    "\n",
    "클라우드서버 및 클라우드ERP 상품 관련하여 아래와 같이 재계약 리스트를 전달하오니\n",
    "관련 상품 재계약 여부 확인하시어 수주 등록 부탁드립니다.(재계약 NSM 발주)\n",
    "\n",
    "※ 재계약 등록 시 솔루션에 맞는 상품으로 진행 부탁드립니다.\n",
    "※ 계산서 발행월 기준 리스트로 누락 없이 진행 부탁드립니다.\n",
    "※ 당월 반품.해지등의 사유로 재계약 불가시 당월 이용요금이 청구될 수 있습니다.\n",
    "\n",
    "※ 해지 등의 사유로 미진행시 반드시 회신 부탁드립니다.\n",
    "   (쪽지 수신자 : 남원길 부장, 김진태 부장, 홍민순 과장, 김태은 대리 포함 쪽지 회신 요망)\n",
    "\n",
    "감사합니다.\n",
    "\n",
    "-------------------- 아   래 ------------------\n",
    "[ 2019년 {1} 재계약 리스트 ]\n",
    "\n",
    "센터 | 상품 | 납부 | 고객명 | 사업자번호 | 월금액 | 재계약금액 | 재계약월\n",
    "    \"\"\".format(center_name, month)\n",
    "    return header\n",
    "\n",
    "def text_print_001(ws_rows):\n",
    "    #pattern = re.compile('(?<=\\d)(?=(\\d{3})+(?!\\d))')\n",
    "    pre_center_name = 'none'\n",
    "    result_text = ''\n",
    "    for row in ws_rows:\n",
    "        center_name = row[1].value\n",
    "\n",
    "        # 첫줄은 pass\n",
    "        if center_name == '센터':\n",
    "            pre_center_name = center_name\n",
    "            continue       \n",
    "        \n",
    "        #month_price = re.sub(pattern,',',str(row[6].value))\n",
    "        if 's' == row[6].data_type:  # 칼럼 헤더 구분\n",
    "            month_price = row[6].value\n",
    "            #print('{0}:{1}: row index = {2}'.format(row[6].value, type(row[6].value), row[6].row))\n",
    "        else:\n",
    "            month_price = \"{:,}원\".format(int(row[6].value))\n",
    "            \n",
    "        #year_price = re.sub(pattern,',',str(row[7].value))\n",
    "        if 's' == row[7].data_type:  # 칼럼 헤더 구분\n",
    "            year_price = str(row[7].value)\n",
    "        else:\n",
    "            year_price = \"{:,}원\".format(int(row[7].value))\n",
    "\n",
    "        month = row[8].value  # 재계약월\n",
    "        \n",
    "        #print('pre_center_name:{0} , center_name:{1}'.format(pre_center_name, center_name)) #debug\n",
    "        \n",
    "        if pre_center_name != center_name:\n",
    "            if pre_center_name != '센터':\n",
    "                print_text = '\\n{0}   끝   {1}\\n'.format('-'*20, '-'*20)\n",
    "                result_text += print_text + '\\n'\n",
    "                #print(print_text)\n",
    "            if pre_center_name != 'none':\n",
    "                print_text = get_header_001(center_name, month)\n",
    "                #print_text = '[ header ]' + '\\n'  #debug\n",
    "                result_text += print_text + '\\n'\n",
    "                #print(print_text)\n",
    "                \n",
    "            pre_center_name = center_name\n",
    "\n",
    "        print_text = '{0} | {1} | {2} | {3} | {4} | {5} | {6} | {7}'.format(\n",
    "            row[1].value, row[2].value, row[3].value, row[4].value, row[5].value, month_price, year_price, row[8].value)\n",
    "        result_text += print_text + '\\n'\n",
    "        #print(print_text)\n",
    "        \n",
    "    # 마지막 라인에 '끝' 추가    \n",
    "    print_text = '\\n{0}   끝   {1}\\n'.format('-'*20, '-'*20)\n",
    "    result_text += print_text + '\\n'\n",
    "    #print(print_text)\n",
    "\n",
    "    return result_text"
   ]
  },
  {
   "cell_type": "code",
   "execution_count": 110,
   "metadata": {},
   "outputs": [],
   "source": [
    "data_file_path = 'C:\\\\Users\\\\김진태\\\\Jupyter_Folder\\\\Data\\\\5월 재계약 업체 리스트_20190502.xlsx'\n",
    "wb = openpyxl.load_workbook(data_file_path)\n",
    "\n",
    "try:\n",
    "    ws = wb[\"Sheet1\"]\n",
    "    \n",
    "    # 첫줄을 읽어 칼럼명 리스트를 만든다\n",
    "    column_name_list = [cell.value for cell in ws[1]] \n",
    "    \n",
    "    save_text = text_print_001(ws.rows)\n",
    "    #print(save_text)\n",
    "    save_file_name = \"C:\\\\Users\\\\김진태\\\\Jupyter_Folder\\\\Data\\\\재계약_쪽지_\" + datetime.now().strftime('%Y%m%d') + \".txt\"\n",
    "    with open(save_file_name, 'w') as f:\n",
    "        f.write(save_text)\n",
    "    \n",
    "except Exception as e:\n",
    "    print('Exception : %s' %e)\n",
    "finally:\n",
    "    wb.close()\n"
   ]
  },
  {
   "cell_type": "code",
   "execution_count": 73,
   "metadata": {},
   "outputs": [
    {
     "name": "stdout",
     "output_type": "stream",
     "text": [
      "본부\n",
      "센터\n",
      "상품\n",
      "월,년\n",
      "고객명\n",
      "사업자번호\n",
      "월급액\n",
      "재계약금액\n",
      "재계약월\n"
     ]
    }
   ],
   "source": [
    "for cell in ws[1]:\n",
    "    print(cell.value)"
   ]
  },
  {
   "cell_type": "code",
   "execution_count": 80,
   "metadata": {},
   "outputs": [],
   "source": [
    "column_name_list = list(cell.value for cell in ws[1])"
   ]
  },
  {
   "cell_type": "code",
   "execution_count": 81,
   "metadata": {},
   "outputs": [
    {
     "data": {
      "text/plain": [
       "['본부', '센터', '상품', '월,년', '고객명', '사업자번호', '월급액', '재계약금액', '재계약월']"
      ]
     },
     "execution_count": 81,
     "metadata": {},
     "output_type": "execute_result"
    }
   ],
   "source": [
    "column_name_list"
   ]
  },
  {
   "cell_type": "code",
   "execution_count": 59,
   "metadata": {},
   "outputs": [
    {
     "data": {
      "text/plain": [
       "'           123,456,789,000,000원'"
      ]
     },
     "execution_count": 59,
     "metadata": {},
     "output_type": "execute_result"
    }
   ],
   "source": [
    "\"{:>30,}원\".format(int('123456789000000'))"
   ]
  },
  {
   "cell_type": "code",
   "execution_count": 67,
   "metadata": {},
   "outputs": [
    {
     "ename": "SyntaxError",
     "evalue": "invalid syntax (<ipython-input-67-7a9c3e45dfe5>, line 2)",
     "output_type": "error",
     "traceback": [
      "\u001b[1;36m  File \u001b[1;32m\"<ipython-input-67-7a9c3e45dfe5>\"\u001b[1;36m, line \u001b[1;32m2\u001b[0m\n\u001b[1;33m    idx++\u001b[0m\n\u001b[1;37m         ^\u001b[0m\n\u001b[1;31mSyntaxError\u001b[0m\u001b[1;31m:\u001b[0m invalid syntax\n"
     ]
    }
   ],
   "source": [
    "idx = 1\n",
    "idx++"
   ]
  },
  {
   "cell_type": "code",
   "execution_count": 78,
   "metadata": {},
   "outputs": [
    {
     "ename": "SyntaxError",
     "evalue": "invalid syntax (<ipython-input-78-bb78bec827be>, line 4)",
     "output_type": "error",
     "traceback": [
      "\u001b[1;36m  File \u001b[1;32m\"<ipython-input-78-bb78bec827be>\"\u001b[1;36m, line \u001b[1;32m4\u001b[0m\n\u001b[1;33m    idx += 1\u001b[0m\n\u001b[1;37m      ^\u001b[0m\n\u001b[1;31mSyntaxError\u001b[0m\u001b[1;31m:\u001b[0m invalid syntax\n"
     ]
    }
   ],
   "source": [
    "idx = 1 #시작 인덱스\n",
    "while idx < ws.max_row:\n",
    "    row_values = ws[idx].values()\n",
    "    print()\n",
    "    idx += 1\n"
   ]
  },
  {
   "cell_type": "code",
   "execution_count": 90,
   "metadata": {},
   "outputs": [
    {
     "data": {
      "text/plain": [
       "'n'"
      ]
     },
     "execution_count": 90,
     "metadata": {},
     "output_type": "execute_result"
    }
   ],
   "source": [
    "ws[3][7].data_type"
   ]
  },
  {
   "cell_type": "code",
   "execution_count": null,
   "metadata": {},
   "outputs": [],
   "source": []
  }
 ],
 "metadata": {
  "kernelspec": {
   "display_name": "Python 3",
   "language": "python",
   "name": "python3"
  },
  "language_info": {
   "codemirror_mode": {
    "name": "ipython",
    "version": 3
   },
   "file_extension": ".py",
   "mimetype": "text/x-python",
   "name": "python",
   "nbconvert_exporter": "python",
   "pygments_lexer": "ipython3",
   "version": "3.7.3"
  }
 },
 "nbformat": 4,
 "nbformat_minor": 2
}
