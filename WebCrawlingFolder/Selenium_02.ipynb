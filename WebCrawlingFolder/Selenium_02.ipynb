{
 "cells": [
  {
   "cell_type": "code",
   "execution_count": 96,
   "metadata": {},
   "outputs": [],
   "source": [
    "#-*- coding: utf-8 -*-                              #한글 인코딩\n",
    "from selenium import webdriver                      #셀레니움 import\n",
    "import selenium.webdriver.support.ui as ui\n",
    "from selenium.webdriver.common.keys import Keys\n",
    "from selenium.common.exceptions import TimeoutException\n",
    "from selenium.webdriver.support.ui import WebDriverWait\n",
    "from selenium.webdriver.support import expected_conditions as EC\n",
    "from selenium.webdriver.common.by import By\n",
    "import time\n",
    "import random\n",
    "import os"
   ]
  },
  {
   "cell_type": "code",
   "execution_count": 107,
   "metadata": {},
   "outputs": [
    {
     "name": "stderr",
     "output_type": "stream",
     "text": [
      "C:\\Users\\김진태\\.conda\\envs\\RPA\\lib\\site-packages\\ipykernel_launcher.py:24: DeprecationWarning: use options instead of chrome_options\n"
     ]
    }
   ],
   "source": [
    "\"\"\"\n",
    "# chromedriver download url\n",
    "https://sites.google.com/a/chromium.org/chromedriver/downloads\n",
    "\"\"\"\n",
    "\n",
    "options = webdriver.chrome.options.Options()    \n",
    "#options = webdriver.ChromeOptions()\n",
    "options.add_argument(\"no-sandbox\") \n",
    "options.add_argument(\"disable-extensions\") \n",
    "options.add_argument(\"disable-popup-blocking\")\n",
    "options.add_argument(\"disable-infobars\")\n",
    "\n",
    "#options.add_argument('headless')\n",
    "#options.add_argument('--disable-gpu')\n",
    "#options.add_argument('lang=ko_KR')\n",
    "\n",
    "options.add_argument(\"user-agent=Mozilla/5.0 (Windows NT 6.1; Win64; x64) AppleWebkit/537.36 (KHTML, like Gecko) Chrome/68.0.3440.106 Safari/537.36)\")\n",
    "\n",
    "#chrome_prefs = {} \n",
    "#options.experimental_options[\"prefs\"] = chrome_prefs \n",
    "#chrome_prefs[\"profile.default_content_settings\"] = { \"popups\": 1 }\n",
    "    \n",
    "    \n",
    "driver = webdriver.Chrome('c:\\\\chromedriver_win32\\chromedriver.exe', chrome_options=options)\n",
    "#driver.set_window_size('1280','1024')\n",
    "#driver.maximize_window()\n",
    "driver.implicitly_wait(3)  # seconds\n",
    "\n",
    "#navigating to a webpage\n",
    "#driver.get(\"https://www.naver.com\")\n",
    "#driver.find_element_by_class_name('lg_local_btn').click()   \n",
    "\n",
    "# 생명보험협회\n",
    "driver.get('http://www.klia.or.kr/main/index.do')\n",
    "#pageFirst = ui.WebDriverWait(driver, 15).until(lambda browser: browser.find_element_by_tag_name('body'))\n",
    "mainWindow = driver.current_window_handle\n",
    "#pageFirst.send_keys(Keys.COMMAND+ 't')\n",
    "   \n",
    "# chrom browser '팝업창을 여시겠습니까?' 닫기\n",
    "try:\n",
    "    WebDriverWait(driver, 5).until(EC.alert_is_present())\n",
    "    alert = driver.switch_to.alert   #driver.switch_to_alert()\n",
    "    alert.accept()\n",
    "    #alert.dismiss()   # cancel\n",
    "except TimeoutException:\n",
    "    pass\n",
    "\n",
    "driver.implicitly_wait(1)                           #크롬 드라이버 1초 대기"
   ]
  },
  {
   "cell_type": "code",
   "execution_count": 108,
   "metadata": {},
   "outputs": [
    {
     "name": "stdout",
     "output_type": "stream",
     "text": [
      "page title is '생명보험협회'\n",
      "page title is ''\n"
     ]
    }
   ],
   "source": [
    "if \"생명보험협회\" not in driver.title:\n",
    "    raise Exception(\"Unable to load 생명보험협회 page!\")\n",
    "\n",
    "# popup window close\n",
    "for handle in driver.window_handles:\n",
    "    #driver.switch_to_window(handle)   # DeprecationWarning\n",
    "    driver.switch_to.window(handle)\n",
    "    print('page title is \\'' + driver.title + '\\'')\n",
    "    if not mainWindow == handle:\n",
    "        driver.close()\n"
   ]
  },
  {
   "cell_type": "code",
   "execution_count": 109,
   "metadata": {},
   "outputs": [
    {
     "name": "stdout",
     "output_type": "stream",
     "text": [
      "page title is '월간생명보험통계 > 생명보험통계 > 소비자'\n",
      "월간생명보험통계 > 생명보험통계 > 소비자\n"
     ]
    }
   ],
   "source": [
    "#driver.switch_to_default_content()\n",
    "driver.switch_to.window(mainWindow)\n",
    "driver.find_element_by_xpath('//*[@id=\"container\"]/div[3]/ul/li[1]/a').click()\n",
    "\n",
    "print('page title is \\'' + driver.title + '\\'')\n",
    "#\"\"\"\n",
    "check_title = '월간생명보험통계 > 생명보험통계 > 소비자'\n",
    "try:\n",
    "    # we have to wait for the page to refresh, the last thing that seems to be updated is the title\n",
    "    WebDriverWait(driver, 10).until(EC.title_contains(check_title))\n",
    "    # You should see \"월간생명보험통계 > 생명보험통계 > 소비자\"\n",
    "    print(driver.title)\n",
    "except TimeoutException:\n",
    "    pass\n",
    "finally:\n",
    "    pass\n",
    "    #driver.quit()\n",
    "#\"\"\""
   ]
  },
  {
   "cell_type": "code",
   "execution_count": 110,
   "metadata": {},
   "outputs": [],
   "source": [
    "# 조회 조건 선택\n",
    "# 조회 년도\n",
    "element = driver.find_element_by_xpath('//*[@id=\"searchForm\"]/fieldset/div[2]/span[2]/select[1]')\n",
    "\"\"\"\n",
    "# select option value 값 확인\n",
    "all_options = element.find_elements_by_tag_name(\"option\")\n",
    "for option in all_options:\n",
    "    print(\"Value is: %s\" % option.get_attribute(\"value\"))\n",
    "    #option.click()\n",
    "\"\"\"\n",
    "select = ui.Select(element)\n",
    "#select.select_by_index(index)\n",
    "#select.select_by_visible_text(\"2017년\")\n",
    "select.select_by_value('2019')\n",
    "#select.deselect_all()\n",
    "\n",
    "# 조회 월\n",
    "element = driver.find_element_by_xpath('//*[@id=\"searchForm\"]/fieldset/div[2]/span[2]/select[2]')\n",
    "select = ui.Select(element)\n",
    "select.select_by_value(\"01\")\n",
    "\n",
    "# 통계목록\n",
    "element = driver.find_element_by_xpath('//*[@id=\"searchForm\"]/fieldset/div[2]/span[4]/select[1]')\n",
    "select = ui.Select(element)\n",
    "select.select_by_value(\"I.생명보험사업개황(총괄)\")\n",
    "#driver.implicitly_wait(1)                           #크롬 드라이버 1초 대기\n",
    "\n",
    "# 보고서 선택\n",
    "element = driver.find_element_by_xpath('//*[@id=\"searchForm\"]/fieldset/div[2]/span[4]/select[2]')\n",
    "select = ui.Select(element)\n",
    "select.select_by_value(\"SM001\")\n",
    "#driver.implicitly_wait(1)                           #크롬 드라이버 1초 대기\n",
    "\n",
    "# 조회 버튼\n",
    "driver.find_element_by_xpath('//*[@id=\"btn_report_read\"]').click()\n",
    "\n",
    "# 다운로드\n",
    "#driver.find_element_by_xpath('//*[@id=\"btn_report_download\"]').click()\n",
    "\n",
    "# 전체 다운로드\n",
    "#driver.find_element_by_xpath('//*[@id=\"btn_report_alldownload\"]\"]').click()\n",
    "\n",
    "\n",
    "try:\n",
    "    #WebDriverWait(driver, 5).until(lambda browser: )\n",
    "    WebDriverWait(driver, 5).until(driver.find_element_by_xpath('//*[@id=\"btn_report_download\"]').click())\n",
    "except:\n",
    "    pass\n",
    "\n",
    "time.sleep(3)"
   ]
  },
  {
   "cell_type": "code",
   "execution_count": 111,
   "metadata": {},
   "outputs": [],
   "source": [
    "driver.quit()"
   ]
  },
  {
   "cell_type": "code",
   "execution_count": 95,
   "metadata": {},
   "outputs": [
    {
     "data": {
      "text/plain": [
       "'C:\\\\Users\\\\김진태\\\\PycharmProjects\\\\JupyterFolder\\\\WebCrawlingFolder'"
      ]
     },
     "execution_count": 95,
     "metadata": {},
     "output_type": "execute_result"
    }
   ],
   "source": [
    "os.getcwd()"
   ]
  },
  {
   "cell_type": "code",
   "execution_count": null,
   "metadata": {},
   "outputs": [],
   "source": []
  }
 ],
 "metadata": {
  "kernelspec": {
   "display_name": "Python 3",
   "language": "python",
   "name": "python3"
  },
  "language_info": {
   "codemirror_mode": {
    "name": "ipython",
    "version": 3
   },
   "file_extension": ".py",
   "mimetype": "text/x-python",
   "name": "python",
   "nbconvert_exporter": "python",
   "pygments_lexer": "ipython3",
   "version": "3.7.3"
  }
 },
 "nbformat": 4,
 "nbformat_minor": 2
}
