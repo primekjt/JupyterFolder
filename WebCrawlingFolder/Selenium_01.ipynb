{
 "cells": [
  {
   "cell_type": "code",
   "execution_count": 1,
   "metadata": {},
   "outputs": [],
   "source": [
    "#-*- coding: utf-8 -*-                              #한글 인코딩\n",
    "from selenium import webdriver                      #셀레니움 import\n",
    "import time\n",
    "import random"
   ]
  },
  {
   "cell_type": "code",
   "execution_count": 181,
   "metadata": {},
   "outputs": [],
   "source": [
    "# 로그인 잘됨 ^^\n",
    "def naver_login(driver):\n",
    "#    driver.get(\"https://www.naver.com\")\n",
    "#    time.sleep(5)\n",
    "#    driver.find_element_by_class_name('lg_local_btn').click()   \n",
    "\n",
    "    driver.get(\"https://nid.naver.com/nidlogin.login\")\n",
    "    driver.execute_script(\"document.getElementsByName('id')[0].value=\\'\" + '사용자아이디' + \"\\'\")\n",
    "    time.sleep(random.randrange(1,3))\n",
    "    driver.execute_script(\"document.getElementsByName('pw')[0].value=\\'\" + '사용자암호' + \"\\'\")\n",
    "    time.sleep(random.randrange(1,3))\n",
    "    driver.find_element_by_class_name('btn_global').click()\n",
    "    #driver.find_element_by_xpath('//*[@id=\"frmNIDLogin\"]/fieldset/input').click()\n",
    "    \n",
    "    \n",
    "# 자동입력 방문 문자 로그인창 발생 : 로그인 안됨 ㅠㅠ\n",
    "def naver_test(driver):\n",
    "    driver.get(\"https://www.naver.com\")\n",
    "    driver.find_element_by_class_name('lg_local_btn').click()   \n",
    "    time.sleep(5)\n",
    "\n",
    "    # id 입력\n",
    "    elem = driver.find_element_by_id(\"id\")\n",
    "    for k in 'cmdaddy':\n",
    "        time.sleep(0.02)\n",
    "        elem.send_keys(k)\n",
    "        time.sleep(random.randrange(1,3))\n",
    "    # 암호 입력\n",
    "    elem = driver.find_element_by_id(\"pw\")\n",
    "    for k in '0first':\n",
    "        time.sleep(0.02)\n",
    "        elem.send_keys(k)\n",
    "        time.sleep(random.randrange(1,3))\n",
    "    # 로그인 버튼 클릭\n",
    "    driver.find_element_by_class_name('btn_global').click()\n",
    "        \n",
    "        \n",
    "def yes24_test(driver):\n",
    "    #yes24 2019년 5월 월별 베스트 페이지로 이동\n",
    "    driver.get('http://www.yes24.com/24/category/bestseller?CategoryNumber=001001003&sumgb=09&year=2019&month=5')\n",
    "    \n",
    "    #movietitle에 1위 책 제목 텍스트를 저장\n",
    "    element = driver.find_element_by_xpath('//*[@id=\"category_layout\"]/tbody/tr[1]/td[3]/p[1]/a[1]')\n",
    "    print(element.text)    "
   ]
  },
  {
   "cell_type": "code",
   "execution_count": 182,
   "metadata": {},
   "outputs": [],
   "source": [
    "naver_login(driver)"
   ]
  },
  {
   "cell_type": "code",
   "execution_count": 174,
   "metadata": {},
   "outputs": [],
   "source": [
    "naver_test(driver)"
   ]
  },
  {
   "cell_type": "code",
   "execution_count": 157,
   "metadata": {},
   "outputs": [],
   "source": [
    "driver.back()\n",
    "time.sleep(3)\n",
    "driver.forward()\n",
    "time.sleep(3)"
   ]
  },
  {
   "cell_type": "code",
   "execution_count": 167,
   "metadata": {},
   "outputs": [],
   "source": [
    "driver.get(\"https://nid.naver.com/nidlogin.login\")\n",
    "#time.sleep(5)\n",
    "driver.execute_script(\"document.getElementsByName('id')[0].value=\\'\" + '사용자아이디' + \"\\'\")\n",
    "time.sleep(random.randrange(1,3))\n",
    "driver.execute_script(\"document.getElementsByName('pw')[0].value=\\'\" + '사용자암호' + \"\\'\")\n",
    "time.sleep(random.randrange(1,3))\n",
    "#driver.find_element_by_class_name('btn_global').click()\n",
    "driver.find_element_by_xpath('//*[@id=\"frmNIDLogin\"]/fieldset/input').click()\n",
    "driver.get(\"https://blog.naver.com/cmdaddy\")"
   ]
  },
  {
   "cell_type": "code",
   "execution_count": 66,
   "metadata": {},
   "outputs": [],
   "source": [
    "try:\n",
    "    naver_test(driver)\n",
    "except Exception as msg:\n",
    "    print(msg)\n",
    "finally:\n",
    "    #driver.close()\n",
    "    pass"
   ]
  },
  {
   "cell_type": "code",
   "execution_count": 42,
   "metadata": {},
   "outputs": [
    {
     "name": "stdout",
     "output_type": "stream",
     "text": [
      "\n",
      "da_iframe_time\n",
      "da_iframe_rolling\n",
      "\n",
      "da_iframe_below\n"
     ]
    }
   ],
   "source": [
    "driver.get(\"https://www.naver.com\")\n",
    "# 프레임 살펴보기\n",
    "iframes = driver.find_elements_by_css_selector('iframe')\n",
    "for iframe in iframes:\n",
    "\tprint(iframe.get_attribute('name'))"
   ]
  },
  {
   "cell_type": "code",
   "execution_count": 178,
   "metadata": {},
   "outputs": [],
   "source": [
    "# 네이버 검색\n",
    "driver.get(\"https://www.naver.com\")\n",
    "elem = driver.find_element_by_id(\"query\")\n",
    "elem.send_keys(\"naver\")\n",
    "driver.find_element_by_css_selector('#search_btn').click()"
   ]
  },
  {
   "cell_type": "code",
   "execution_count": 179,
   "metadata": {},
   "outputs": [],
   "source": [
    "driver.close()"
   ]
  },
  {
   "cell_type": "code",
   "execution_count": null,
   "metadata": {},
   "outputs": [],
   "source": []
  }
 ],
 "metadata": {
  "kernelspec": {
   "display_name": "Python 3",
   "language": "python",
   "name": "python3"
  },
  "language_info": {
   "codemirror_mode": {
    "name": "ipython",
    "version": 3
   },
   "file_extension": ".py",
   "mimetype": "text/x-python",
   "name": "python",
   "nbconvert_exporter": "python",
   "pygments_lexer": "ipython3",
   "version": "3.7.3"
  }
 },
 "nbformat": 4,
 "nbformat_minor": 2
}
