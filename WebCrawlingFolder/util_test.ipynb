{
 "cells": [
  {
   "cell_type": "code",
   "execution_count": 32,
   "metadata": {},
   "outputs": [
    {
     "name": "stdout",
     "output_type": "stream",
     "text": [
      "2019-05-27\n",
      "['20190521', '20190523']\n",
      "20190523\n",
      "invalid day C:\\Users\\김진태\\AppData\\Roaming\\jupyter\\runtime\\kernel-d9e84a9c-969b-4de8-86cd-3f57e5135d19json\n"
     ]
    },
    {
     "ename": "SystemExit",
     "evalue": "",
     "output_type": "error",
     "traceback": [
      "An exception has occurred, use %tb to see the full traceback.\n",
      "\u001b[1;31mSystemExit\u001b[0m\n"
     ]
    }
   ],
   "source": [
    "import os\n",
    "import sys\n",
    "import datetime\n",
    "today = datetime.datetime.now\n",
    "#datetime.datetime.now.date().weekday()\n",
    "#today.weekday()\n",
    "\n",
    "'''\n",
    "-auto\n",
    "-to\n",
    "-from\n",
    "-to 2019.5.27 -from 2019.5.28\n",
    "'''\n",
    "d1 = datetime.date(2019, 5, 27)\n",
    "print(d1)\n",
    "today = datetime.datetime.today() # datetime.datetime.now\n",
    "yesterday = today + datetime.timedelta(days = -1) # 오늘에서 1일을 빼서 어제를 구한다\n",
    "order_to_day = yesterday.strftime('%Y%m%d')\n",
    "\n",
    "aa = ('20190523', '20190521')\n",
    "print(sorted(aa))\n",
    "print(aa[0])\n",
    "\n",
    "options_len = len(sys.argv)\n",
    "if options_len is 3:\n",
    "    order_to_day = sys.argv[2].replace('.', '')\n",
    "    order_from_day = order_to_day\n",
    "elif options_len is 5:\n",
    "    order_to_day = sys.argv[2].replace('.', '')\n",
    "    order_from_day = sys.argv[4].replace('.', '')\n",
    "\n",
    "if not len(order_to_day) is 8:\n",
    "    print('invalid day %s' % order_to_day)\n",
    "    sys.exit()prime200*\n",
    "if not len(order_from_day) is 8:\n",
    "    print('invalid day %s' % order_from_day)\n",
    "    sys.exit()\n",
    "    \n",
    "print('to day : %s, from day : %s' % (order_to_day, order_from_day))\n",
    "\n",
    "list('a', 'b')\n",
    "        "
   ]
  },
  {
   "cell_type": "code",
   "execution_count": null,
   "metadata": {},
   "outputs": [],
   "source": [
    "import os\n",
    "os.system(\"c:/Windows/notepad.exe\")"
   ]
  },
  {
   "cell_type": "code",
   "execution_count": 1,
   "metadata": {},
   "outputs": [
    {
     "name": "stdout",
     "output_type": "stream",
     "text": [
      "sys.getwindowsversion(major=10, minor=0, build=17134, platform=2, service_pack='')\n",
      "argv size : 3\n",
      "0 C:\\ProgramData\\Anaconda3\\envs\\JupyterFolder\\lib\\site-packages\\ipykernel_launcher.py\n",
      "1 -f\n",
      "2 C:\\Users\\김진태\\AppData\\Roaming\\jupyter\\runtime\\kernel-a6bfd90d-a16a-405b-8592-2b6d30e6d900.json\n",
      "utf-8\n",
      "hi python"
     ]
    },
    {
     "name": "stderr",
     "output_type": "stream",
     "text": [
      "hi python"
     ]
    }
   ],
   "source": [
    "import sys\n",
    "print(sys.getwindowsversion())\n",
    "\n",
    "print(\"argv size :\", len(sys.argv))\n",
    "for i, arg in enumerate(sys.argv):\n",
    "    print(i, arg)\n",
    "    \n",
    "print(sys.getdefaultencoding())\n",
    "\n",
    "sys.stdout.write(\"hi python\") # 표준 출력 스트림\n",
    "sys.stderr.write(\"hi python\") # 표준 에러 스트림"
   ]
  },
  {
   "cell_type": "code",
   "execution_count": 9,
   "metadata": {},
   "outputs": [
    {
     "name": "stdout",
     "output_type": "stream",
     "text": [
      "['First Section', 'Second Section']\n",
      "/Users\n",
      "2\n",
      "['my_dir', 'test1', 'test2']\n",
      "${First Section:home_dir}/김진태\n"
     ]
    },
    {
     "data": {
      "text/plain": [
       "'${First Section:home_dir}/김진태'"
      ]
     },
     "execution_count": 9,
     "metadata": {},
     "output_type": "execute_result"
    }
   ],
   "source": [
    "import configparser\n",
    "\n",
    "configFile = 'config.cfg'\n",
    "\n",
    "config = configparser.ConfigParser() \n",
    "config.add_section(\"First Section\") \n",
    "config.set(\"First Section\", \"home_dir\", \"/Users\") \n",
    "config.set(\"First Section\", \"test1\", \"1\") \n",
    "config.set(\"First Section\", \"test2\", \"2\") \n",
    "config.add_section(\"Second Section\") \n",
    "config.set(\"Second Section\", \"my_dir\", \"${First Section:home_dir}/김진태\") \n",
    "config.set(\"Second Section\", \"test1\", \"1\") \n",
    "config.set(\"Second Section\", \"test2\", \"2\")\n",
    "configFile = open(\"config.cfg\", \"w\") \n",
    "config.write(configFile) \n",
    "configFile.close()\n",
    "\n",
    "config = configparser.ConfigParser() \n",
    "config.read(\"config.cfg\")\n",
    "\n",
    "print(config.sections())\n",
    "print(config.get(\"First Section\", \"home_dir\"))\n",
    "print(config.get(\"First Section\", \"test2\"))\n",
    "print(config.options(\"Second Section\"))\n",
    "print(config.get(\"Second Section\", \"my_dir\"))\n",
    "config['Second Section']['my_dir']"
   ]
  },
  {
   "cell_type": "code",
   "execution_count": null,
   "metadata": {},
   "outputs": [],
   "source": []
  }
 ],
 "metadata": {
  "kernelspec": {
   "display_name": "Python 3",
   "language": "python",
   "name": "python3"
  },
  "language_info": {
   "codemirror_mode": {
    "name": "ipython",
    "version": 3
   },
   "file_extension": ".py",
   "mimetype": "text/x-python",
   "name": "python",
   "nbconvert_exporter": "python",
   "pygments_lexer": "ipython3",
   "version": "3.7.3"
  }
 },
 "nbformat": 4,
 "nbformat_minor": 2
}
