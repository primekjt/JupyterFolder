{
 "cells": [
  {
   "cell_type": "code",
   "execution_count": 1,
   "metadata": {},
   "outputs": [],
   "source": [
    "import requests \n",
    "from bs4 import BeautifulSoup\n",
    "import os\n",
    "import re\n",
    "import time\n",
    "from openpyxl import Workbook\n",
    "from openpyxl.styles import Font, Fill\n",
    "import datetime"
   ]
  },
  {
   "cell_type": "code",
   "execution_count": 11,
   "metadata": {},
   "outputs": [],
   "source": [
    "class xitem:\n",
    "    def __init__(self, title, link, source, term):\n",
    "        self.title = title\n",
    "        self.link = link\n",
    "        self.source = source\n",
    "        self.term = term\n",
    "        \n",
    "    def __str__(self):\n",
    "        return 'title:' + self.title + ', link:' + self.link + ', source:' + self.source + ', term:' + str(self.term)\n",
    "    \n",
    "def get_news_items(url):\n",
    "    item_list = []\n",
    "    res = requests.get(url)\n",
    "    obj = BeautifulSoup(res.text, 'html.parser')\n",
    "    lst = obj.find('ul', {'class':'type01'})\n",
    "    lst_a = lst.find_all('a', {'class':'_sp_each_title'})   # lst.findAll('a', attrs='_sp_each_title')\n",
    "\n",
    "    for x in lst_a:\n",
    "    #    print(x)\n",
    "        title = x['title']\n",
    "        link = x['href']\n",
    "        p1 = x.find_parent().find_parent()\n",
    "        p2 = p1.find('dd', {'class':'txt_inline'})\n",
    "        source = p2.find('span', {'class':'_sp_each_source'}).get_text()\n",
    "        term = p2.find(string=re.compile('([0-9]+(분 전|시간 전|일 전)) | (\\d{4}.\\d{2}.\\d{2})'))\n",
    "        #print(p2 if not term else term)\n",
    "\n",
    "        item_list.append(xitem(title, link, source, term))\n",
    "    \n",
    "    return item_list\n",
    "\n",
    "def adjust_column_width_auto(ws):\n",
    "    \"\"\" 각 열들의 너비 자동 조정 \"\"\"\n",
    "    column_widths = []\n",
    "    for row in ws.iter_rows():\n",
    "        for i, cell in enumerate(row):\n",
    "            try:\n",
    "                column_widths[i] = max(column_widths[i], len(cell.value))\n",
    "            except IndexError:\n",
    "                column_widths.append(len(cell.value))\n",
    "    #print(column_widths)\n",
    "    for i, column_width in enumerate(column_widths):\n",
    "        column_name = chr(65 + i)\n",
    "        #print(column_name)\n",
    "        ws.column_dimensions[column_name].width = column_width    \n",
    "    \n",
    "def excel_file_save(file_name, data_list):\n",
    "    wb = Workbook()\n",
    "    sheet1 = wb.active\n",
    "    #sheet1.title = 'Sheet1'\n",
    "    min_row = 1\n",
    "    max_row = len(data_list) + 1\n",
    "    #max_col = 4\n",
    "    for row_idx in range(min_row, max_row):\n",
    "        data = data_list[row_idx-1]   # 0부터 시작\n",
    "        #print(str(row_idx) + \":\" + data.title)\n",
    "        \n",
    "        #col_1_length if col_1_length > len(data.title) else len(data.title)\n",
    "        \n",
    "        sheet1.cell(column=1, row=row_idx, value=\"{0}\".format(data.title))\n",
    "        sheet1.cell(column=1, row=row_idx).hyperlink = data.link\n",
    "        sheet1.cell(column=1, row=row_idx).style = 'Hyperlink'\n",
    "        sheet1.cell(column=2, row=row_idx, value=\"{0}\".format(data.source))        \n",
    "        sheet1.cell(column=3, row=row_idx, value=\"{0}\".format(data.term))        \n",
    "    \n",
    "    # column width change\n",
    "    adjust_column_width_auto(sheet1)\n",
    "    \n",
    "    wb.save(file_name)\n",
    "    \n",
    "def input_data():\n",
    "    #cur_dir = os.getcwd()\n",
    "    #print('current directory : ' + cur_dir)\n",
    "    print('program exit : \\'x\\' press key or \\'Enter\\' key')\n",
    "    while True:\n",
    "        input_data = input('input data : ')\n",
    "        if input_data == 'x' or input_data == '':\n",
    "            break\n",
    "        else:\n",
    "            if 0 < len(input_data):\n",
    "                return input_data\n",
    "    return ''   \n",
    "   \n",
    "def main():\n",
    "\n",
    "    search_text = input_data()\n",
    "    if len(search_text) <= 0:\n",
    "        print('program exit.')\n",
    "        return\n",
    "\n",
    "    #url_format = 'https://search.naver.com/search.naver?&where=news&query={0}&sm=tab_pge&sort=1&photo=0&field=0&reporter_article=&pd=0&ds=&de=&docid=&nso=so:dd,p:all,a:all&mynews=0&start={1}&refresh_start=1'\n",
    "    #url_format = 'https://search.naver.com/search.naver?where=news&query={0}&sm=tab_srt&sort=1&photo=0&field=0&reporter_article=&pd=0&ds=&de=&docid=&nso=so%3Add%2Cp%3Aall%2Ca%3Aall&mynews=0&refresh_start={1}&related=0'\n",
    "    url_format = 'https://search.naver.com/search.naver?query={0}&where=news&ie=utf8&sm=tab_pge&sort=1&start={1}'\n",
    "    xitem_list = []\n",
    "\n",
    "    print('검색을 시작합니다.')\n",
    "    for i in range(0, 3, 1):   #1.11.21.31.41.51.61.71.81.91\n",
    "        print(str(i+1), 'Page ', end=\" \")\n",
    "        #print('index : ' + str(i))\n",
    "        url = url_format.format(search_text, i*10+1)\n",
    "\n",
    "        xitem_list += get_news_items(url)\n",
    "\n",
    "        time.sleep(3)\n",
    "\n",
    "    print(\"***\" + str(len(xitem_list)) + ' 건이 검색되었습니다.')\n",
    "    #for x in xitem_list: print(x)\n",
    "        \n",
    "    #print(xitem_list[0])\n",
    "    save_file_name = \"save_sample_{:%Y%m%d%H%M%S}.xlsx\".format(datetime.datetime.now())    \n",
    "    excel_file_save(save_file_name, xitem_list)\n",
    "    \n",
    "    print('Good By!')\n",
    "    return"
   ]
  },
  {
   "cell_type": "code",
   "execution_count": 12,
   "metadata": {},
   "outputs": [
    {
     "name": "stdout",
     "output_type": "stream",
     "text": [
      "program exit : 'x' press key or 'Enter' key\n"
     ]
    },
    {
     "name": "stdin",
     "output_type": "stream",
     "text": [
      "input data :  더럭셔리그랜저\n"
     ]
    },
    {
     "name": "stdout",
     "output_type": "stream",
     "text": [
      "검색을 시작합니다.\n",
      "1 Page   5시간 전 \n",
      " 12시간 전 \n",
      " 1일 전 \n",
      " 1일 전 \n",
      " 1일 전 \n",
      " 2일 전 \n",
      " 2일 전 \n",
      " 2일 전 \n",
      " 2일 전 \n",
      " 2일 전 \n",
      "2 Page   2일 전 \n",
      " 2일 전 \n",
      " 3일 전 \n",
      " 3일 전 \n",
      " 3일 전 \n",
      " 3일 전 \n",
      " 4일 전 \n",
      " 6일 전 \n",
      " 7일 전 \n",
      " 7일 전 \n",
      "3 Page   2019.05.11. \n",
      " 2019.05.11. \n",
      " 2019.05.10. \n",
      " 2019.05.09. \n",
      " 2019.05.08. \n",
      " 2019.05.08. \n",
      " 2019.05.07. \n",
      " 2019.05.06. \n",
      " 2019.05.04. \n",
      " 2019.05.02. \n",
      "***30 건이 검색되었습니다.\n",
      "Good By!\n"
     ]
    }
   ],
   "source": [
    "main()"
   ]
  },
  {
   "cell_type": "code",
   "execution_count": null,
   "metadata": {},
   "outputs": [],
   "source": [
    "\"\"\"\n",
    "lst_desc = lst.findAll('dd', {'class':'txt_inline'})\n",
    "for x in lst_desc:\n",
    "    x1 = x.find(string=re.compile('[0-9]'))\n",
    "    print(x1)\n",
    "    x_source = x.findAll('span', {'class':'_sp_each_source'})\n",
    "    for y in x_source:\n",
    "        print(y.text)\n",
    "\"\"\""
   ]
  },
  {
   "cell_type": "code",
   "execution_count": 115,
   "metadata": {},
   "outputs": [
    {
     "data": {
      "text/plain": [
       "'1234'"
      ]
     },
     "execution_count": 115,
     "metadata": {},
     "output_type": "execute_result"
    }
   ],
   "source": [
    "value = 1234\n",
    "#value = None\n",
    "str(value) if value is not None else \"\"\n",
    "\n",
    "#max(len(as_text(cell.value))"
   ]
  },
  {
   "cell_type": "code",
   "execution_count": 85,
   "metadata": {},
   "outputs": [
    {
     "name": "stdout",
     "output_type": "stream",
     "text": [
      "title:a, link:b, source:c, time:d\n",
      "title:aa, link:bb, source:cc, time:dd\n"
     ]
    }
   ],
   "source": [
    "for i in range(len(lst)):\n",
    "    print(lst[i])\n",
    "\n",
    "    for cell in soup.select('//*[@id=\"sp_nws1\"]/dl/dd[1]/text()'):"
   ]
  },
  {
   "cell_type": "code",
   "execution_count": 166,
   "metadata": {},
   "outputs": [
    {
     "name": "stdout",
     "output_type": "stream",
     "text": [
      "<re.Match object; span=(16, 20), match='시간 전'>\n"
     ]
    }
   ],
   "source": [
    "re.sub('[0-9]', '', '1가나다345_a_b_cd')\n",
    "m = re.search('[^0-9]*전', '디지털데일리언론사 선정  15시간 전  네이버뉴스   보내기')\n",
    "print(m)"
   ]
  },
  {
   "cell_type": "code",
   "execution_count": 62,
   "metadata": {},
   "outputs": [
    {
     "name": "stdout",
     "output_type": "stream",
     "text": [
      "s\n",
      "x\n"
     ]
    }
   ],
   "source": [
    "print('s')\n",
    "time.sleep(3)\n",
    "print('x')\n"
   ]
  },
  {
   "cell_type": "code",
   "execution_count": 141,
   "metadata": {},
   "outputs": [
    {
     "name": "stdout",
     "output_type": "stream",
     "text": [
      "1 Page  : 1 2 Page  : 11 3 Page  : 21 4 Page  : 31 5 Page  : 41 6 Page  : 51 7 Page  : 61 8 Page  : 71 9 Page  : 81 10 Page  : 91 "
     ]
    }
   ],
   "source": [
    "for i in range(0, 10, 1):   #1.11.21.31.41.51.61.71.81.91\n",
    "    print(str(i+1), 'Page ', \":\", str(i*10+1), end=\" \")"
   ]
  },
  {
   "cell_type": "code",
   "execution_count": 6,
   "metadata": {},
   "outputs": [
    {
     "data": {
      "text/plain": [
       "'None'"
      ]
     },
     "execution_count": 6,
     "metadata": {},
     "output_type": "execute_result"
    }
   ],
   "source": [
    "txt = '한국 32일 22시간 전 가나다 123호 '\n",
    "pattern = re.compile(r'[0-9][(시간 전) | (일 전)]')\n",
    "str(pattern.match(txt))"
   ]
  },
  {
   "cell_type": "code",
   "execution_count": null,
   "metadata": {},
   "outputs": [],
   "source": []
  }
 ],
 "metadata": {
  "kernelspec": {
   "display_name": "Python 3",
   "language": "python",
   "name": "python3"
  },
  "language_info": {
   "codemirror_mode": {
    "name": "ipython",
    "version": 3
   },
   "file_extension": ".py",
   "mimetype": "text/x-python",
   "name": "python",
   "nbconvert_exporter": "python",
   "pygments_lexer": "ipython3",
   "version": "3.7.3"
  }
 },
 "nbformat": 4,
 "nbformat_minor": 2
}
