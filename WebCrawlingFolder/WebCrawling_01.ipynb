{
 "cells": [
  {
   "cell_type": "code",
   "execution_count": 7,
   "metadata": {},
   "outputs": [],
   "source": [
    "import requests \n",
    "from bs4 import BeautifulSoup\n",
    "import os\n",
    "import re\n",
    "import time\n",
    "from openpyxl import Workbook\n",
    "from openpyxl.styles import Font, Fill\n",
    "import datetime"
   ]
  },
  {
   "cell_type": "code",
   "execution_count": 14,
   "metadata": {},
   "outputs": [],
   "source": [
    "class xitem:\n",
    "    def __init__(self, title, link, source, term):\n",
    "        self.title = title\n",
    "        self.link = link\n",
    "        self.source = source\n",
    "        self.term = term\n",
    "        \n",
    "    def __str__(self):\n",
    "        return 'title:' + self.title + ', link:' + self.link + ', source:' + self.source + ', term:' + self.term\n",
    "    \n",
    "def get_news_items(url):\n",
    "    item_list = []\n",
    "    res = requests.get(url)\n",
    "    obj = BeautifulSoup(res.text, 'html.parser')\n",
    "    lst = obj.find('ul', {'class':'type01'})\n",
    "    lst_a = lst.find_all('a', {'class':'_sp_each_title'})   # lst.findAll('a', attrs='_sp_each_title')\n",
    "\n",
    "    for x in lst_a:\n",
    "    #    print(x)\n",
    "        title = x['title']\n",
    "        link = x['href']\n",
    "        p1 = x.find_parent().find_parent()\n",
    "        p2 = p1.find('dd', {'class':'txt_inline'})\n",
    "        source = p2.find('span', {'class':'_sp_each_source'}).get_text()\n",
    "        term = p2.find(string=re.compile('[0-9]'))\n",
    "\n",
    "        item_list.append(xitem(title, link, source, term))\n",
    "    \n",
    "    return item_list\n",
    "\n",
    "\n",
    "def adjust_column_width_auto(ws):\n",
    "    \"\"\" 각 열들의 너비 자동 조정 \"\"\"\n",
    "    column_widths = []\n",
    "    for row in ws.iter_rows():\n",
    "        for i, cell in enumerate(row):\n",
    "            try:\n",
    "                column_widths[i] = max(column_widths[i], len(cell.value))\n",
    "            except IndexError:\n",
    "                column_widths.append(len(cell.value))\n",
    "    #print(column_widths)\n",
    "    for i, column_width in enumerate(column_widths):\n",
    "        column_name = chr(65 + i)\n",
    "        #print(column_name)\n",
    "        ws.column_dimensions[column_name].width = column_width    \n",
    "    \n",
    "def excel_file_save(file_name, data_list):\n",
    "    wb = Workbook()\n",
    "    sheet1 = wb.active\n",
    "    #sheet1.title = 'Sheet1'\n",
    "    min_row = 1\n",
    "    max_row = len(data_list) + 1\n",
    "    #max_col = 4\n",
    "    for row_idx in range(min_row, max_row):\n",
    "        data = data_list[row_idx-1]   # 0부터 시작\n",
    "        #print(str(row_idx) + \":\" + data.title)\n",
    "        \n",
    "        #col_1_length if col_1_length > len(data.title) else len(data.title)\n",
    "        \n",
    "        sheet1.cell(column=1, row=row_idx, value=\"{0}\".format(data.title))\n",
    "        sheet1.cell(column=1, row=row_idx).hyperlink = data.link\n",
    "        sheet1.cell(column=1, row=row_idx).style = 'Hyperlink'\n",
    "        sheet1.cell(column=2, row=row_idx, value=\"{0}\".format(data.source))        \n",
    "        sheet1.cell(column=3, row=row_idx, value=\"{0}\".format(data.term))        \n",
    "    \n",
    "    # column width change\n",
    "    adjust_column_width_auto(sheet1)\n",
    "    \n",
    "    wb.save(file_name)\n",
    "    \n",
    "def input_data():\n",
    "    #cur_dir = os.getcwd()\n",
    "    #print('current directory : ' + cur_dir)\n",
    "    print('program exit : \\'x\\' press key or \\'Enter\\' key')\n",
    "    while True:\n",
    "        input_data = input('input data : ')\n",
    "        if input_data == 'x' or input_data == '':\n",
    "            break\n",
    "        else:\n",
    "            if 0 < len(input_data):\n",
    "                return input_data\n",
    "    return ''   \n",
    "   \n",
    "def main():\n",
    "\n",
    "    search_text = input_data()\n",
    "    if len(search_text) <= 0:\n",
    "        print('program exit.')\n",
    "        return\n",
    "\n",
    "    #url_format = 'https://search.naver.com/search.naver?&where=news&query={0}&sm=tab_pge&sort=1&photo=0&field=0&reporter_article=&pd=0&ds=&de=&docid=&nso=so:dd,p:all,a:all&mynews=0&start={1}&refresh_start=1'\n",
    "    #url_format = 'https://search.naver.com/search.naver?where=news&query={0}&sm=tab_srt&sort=1&photo=0&field=0&reporter_article=&pd=0&ds=&de=&docid=&nso=so%3Add%2Cp%3Aall%2Ca%3Aall&mynews=0&refresh_start={1}&related=0'\n",
    "    url_format = 'https://search.naver.com/search.naver?query={0}&where=news&ie=utf8&sm=tab_pge&sort=1&start={1}'\n",
    "    xitem_list = []\n",
    "\n",
    "    print('검색을 시작합니다.')\n",
    "    for i in range(0, 3, 1):   #1.11.21.31.41.51.61.71.81.91\n",
    "        print(str(i+1), 'Page ', end=\" \")\n",
    "        #print('index : ' + str(i))\n",
    "        url = url_format.format(search_text, i*10+1)\n",
    "\n",
    "        xitem_list += get_news_items(url)\n",
    "\n",
    "        time.sleep(3)\n",
    "\n",
    "    print(\"***\" + str(len(xitem_list)) + ' 건이 검색되었습니다.')\n",
    "    for x in xitem_list: \n",
    "        print(x)\n",
    "        \n",
    "    #print(xitem_list[0])\n",
    "    save_file_name = \"save_sample_{:%Y%m%d%H%M%S}.xlsx\".format(datetime.datetime.now())    \n",
    "    excel_file_save(save_file_name, xitem_list)\n",
    "    \n",
    "    print('Good By!')\n",
    "    return"
   ]
  },
  {
   "cell_type": "code",
   "execution_count": 15,
   "metadata": {},
   "outputs": [
    {
     "name": "stdout",
     "output_type": "stream",
     "text": [
      "program exit : 'x' press key or 'Enter' key\n"
     ]
    },
    {
     "name": "stdin",
     "output_type": "stream",
     "text": [
      "input data :  rpa\n"
     ]
    },
    {
     "name": "stdout",
     "output_type": "stream",
     "text": [
      "검색을 시작합니다.\n",
      "1 Page  2 Page  3 Page  ***30 건이 검색되었습니다.\n",
      "title:오는 6월, AI 기반 지능형 로보틱 프로세서 관련 세미나 열려, link:http://www.hellot.net/new_hellot/magazine/magazine_read.html?code=201&sub=004&idx=46263, source:헬로티, term: 5시간 전 \n",
      "title:글로벌 금융업계 AI 프로젝트, 파일럿에서 상품화로 '레벨업', link:http://www.ciokorea.com/news/122849, source:CIO Korea, term: 7시간 전 \n",
      "title:저축은행중앙회, 새 방식의 자금세탁 방지시스템 구축, link:http://www.businesspost.co.kr/BP?command=article_view&num=127720, source:비즈니스포스트, term: 8시간 전 \n",
      "title:\"초개인화 시대, 기업의 방향 제시\"18회 KCCM 컨퍼런스 성료, link:http://www.newsprime.co.kr/news/article.html?no=460081, source:프라임경제, term: 11시간 전 \n",
      "title:이젠 공공업무도 로봇 도입 시대, link:http://www.idaegu.co.kr/news/articleView.html?idxno=277743, source:대구신문, term: 1일 전 \n",
      "title:한솔PNS, RPA 컨설팅 및 구축 노하우 토대로 서비스 확대, link:http://news.wowtv.co.kr/NewsCenter/News/Read?articleId=A201905160704&t=NN, source:한국경제TV, term: 1일 전 \n",
      "title:제3회 한경닷컴 CEO포럼... '中企 3금 리스크 시대, 불황을 극복하는 조직 효율화 방안'(종합), link:https://www.hankyung.com/article/201905163857a, source:한국경제, term: 1일 전 \n",
      "title:리치앤코, 현대해상과 보험금청구 혁신 사업 맞손, link:http://www.cstimes.com/?mod=news&act=articleView&idxno=304924, source:컨슈머타임스, term: 1일 전 \n",
      "title:리치앤코-현대해상, '보험금 청구 혁신 사업' 업무제휴 체결, link:http://www.dtoday.co.kr/news/articleView.html?idxno=310457, source:일간투데이, term: 1일 전 \n",
      "title:리치앤코-현대해상, 보험금 청구 혁신 사업 MOU 체결, link:http://www.greened.kr/news/articleView.html?idxno=107728, source:녹색경제신문, term: 1일 전 \n",
      "title:한국능률협회컨설팅, 국내 최대 규모 '디지털 채널 컨퍼런스' 개최, link:https://www.hankyung.com/article/201905163426a, source:한국경제, term: 1일 전 \n",
      "title:현대해상과 리치앤코, 디지털기술로 보험금 청구 혁신 협력, link:http://www.businesspost.co.kr/BP?command=article_view&num=127540, source:비즈니스포스트, term: 1일 전 \n",
      "title:리치앤코-현대해상, 보험금 청구 혁신 맞손, link:http://www.asiatime.co.kr/news/articleView.html?idxno=246019, source:아시아타임즈, term: 1일 전 \n",
      "title:리치앤코, 현대해상과 '보험금 청구 혁신 사업' MOU 체결, link:http://www.finomy.com/news/articleView.html?idxno=65830, source:현대경제신문, term: 1일 전 \n",
      "title:한국능률협회컨설팅, 국내 최대 규모 디지털 채널 부문 컨퍼런스 열어, link:https://cnbc.sbs.co.kr/article_hub/10000941684?division=NAVER, source:SBS CNBC, term: 1일 전 \n",
      "title:리치앤코-현대해상, '보험금 청구 혁신 사업' 맞손, link:http://www.kbanker.co.kr/news/articleView.html?idxno=82770, source:대한금융신문, term: 1일 전 \n",
      "title:리치앤코, 현대해상과 ‘보험금 청구 혁신’ MOU 체결, link:http://www.inthenews.co.kr/news/article.html?no=15486, source:인더뉴스, term: 1일 전 \n",
      "title:한국능률협회컨설팅, '제18회 대한민국 채널 & 커뮤니케이션(KCCM) 컨퍼런스' 성료, link:http://www.kukinews.com/news/article.html?no=662818, source:쿠키뉴스, term: 1일 전 \n",
      "title:초개인화시대 맞은 기업의 대응 방안은?… 한국능률협회컨설팅, '디지털 채널 컨퍼런스' 열어, link:http://news.heraldcorp.com/view.php?ud=20190516000324, source:헤럴드경제, term: 1일 전 \n",
      "title:'모바일리더' 52주 신고가 경신, 전일 기관 대량 순매수, link:https://www.hankyung.com/article/201905161903L, source:한국경제, term: 1일 전 \n",
      "title:리치앤코·현대해상, '보험금 청구' 혁신 서비스 위해 업무제휴 체결, link:http://www.dailygrid.net/news/articleView.html?idxno=227904, source:데일리그리드, term: 1일 전 \n",
      "title:리치앤코, 현대해상과 '보험금청구 혁신 사업' 협약, link:http://www.inews24.com/view/1179223, source:아이뉴스24, term:아이뉴스24\n",
      "title:현대해상-리치앤코, '보험금 청구 혁신 사업' 업무제휴 체결, link:http://www.metroseoul.co.kr/news/newsview?newscd=2019051600027, source:메트로신문, term: 1일 전 \n",
      "title:현대해상-리치앤코, 보험금 간편 청구 MOU 체결, link:http://www.fins.co.kr/news/articleView.html?idxno=80551, source:보험매일, term: 1일 전 \n",
      "title:리치앤코, 현대해상과 '보험금 청구 혁신 사업' MOU 체결, link:http://www.etnews.com/20190516000063, source:전자신문, term: 1일 전 \n",
      "title:리치앤코, 현대해상과 '보험금 청구 혁신 사업' 업무 제휴, link:http://www.fnnews.com/news/201905160928245738, source:파이낸셜뉴스, term: 1일 전 \n",
      "title:리치앤코, 현대해상과 '보험금청구 혁신 사업' 협약, link:http://moneys.mt.co.kr/news/mwView.php?no=2019051609178062959, source:머니S, term: 1일 전 \n",
      "title:현대해상-리치앤코, 보험금 간편 청구 MOU 체결...서류만 찍어 올려도 청구 가능, link:http://www.fntimes.com/html/view.php?ud=2019051609105010965e6e69892f_18, source:한국금융신문, term: 1일 전 \n",
      "title:리치앤코, 현대해상과 ‘보험금 청구 혁신 사업’ 업무제휴(MOU) 체결, link:http://www.lawissue.co.kr/view.php?ud=201905160856359682204ead0791_12, source:로이슈, term: 1일 전 \n",
      "title:리치앤코-현대해상, '보험금 청구 혁신 사업' 업무제휴 체결, link:http://www.m-i.kr/news/articleView.html?idxno=603399, source:매일일보, term: 1일 전 \n",
      "Good By!\n"
     ]
    }
   ],
   "source": [
    "main()"
   ]
  },
  {
   "cell_type": "code",
   "execution_count": null,
   "metadata": {},
   "outputs": [],
   "source": [
    "\"\"\"\n",
    "lst_desc = lst.findAll('dd', {'class':'txt_inline'})\n",
    "for x in lst_desc:\n",
    "    x1 = x.find(string=re.compile('[0-9]'))\n",
    "    print(x1)\n",
    "    x_source = x.findAll('span', {'class':'_sp_each_source'})\n",
    "    for y in x_source:\n",
    "        print(y.text)\n",
    "\"\"\""
   ]
  },
  {
   "cell_type": "code",
   "execution_count": 115,
   "metadata": {},
   "outputs": [
    {
     "data": {
      "text/plain": [
       "'1234'"
      ]
     },
     "execution_count": 115,
     "metadata": {},
     "output_type": "execute_result"
    }
   ],
   "source": [
    "value = 1234\n",
    "#value = None\n",
    "str(value) if value is not None else \"\"\n",
    "\n",
    "#max(len(as_text(cell.value))"
   ]
  },
  {
   "cell_type": "code",
   "execution_count": 85,
   "metadata": {},
   "outputs": [
    {
     "name": "stdout",
     "output_type": "stream",
     "text": [
      "title:a, link:b, source:c, time:d\n",
      "title:aa, link:bb, source:cc, time:dd\n"
     ]
    }
   ],
   "source": [
    "for i in range(len(lst)):\n",
    "    print(lst[i])\n",
    "\n",
    "    for cell in soup.select('//*[@id=\"sp_nws1\"]/dl/dd[1]/text()'):"
   ]
  },
  {
   "cell_type": "code",
   "execution_count": 166,
   "metadata": {},
   "outputs": [
    {
     "name": "stdout",
     "output_type": "stream",
     "text": [
      "<re.Match object; span=(16, 20), match='시간 전'>\n"
     ]
    }
   ],
   "source": [
    "re.sub('[0-9]', '', '1가나다345_a_b_cd')\n",
    "m = re.search('[^0-9]*전', '디지털데일리언론사 선정  15시간 전  네이버뉴스   보내기')\n",
    "print(m)"
   ]
  },
  {
   "cell_type": "code",
   "execution_count": 62,
   "metadata": {},
   "outputs": [
    {
     "name": "stdout",
     "output_type": "stream",
     "text": [
      "s\n",
      "x\n"
     ]
    }
   ],
   "source": [
    "print('s')\n",
    "time.sleep(3)\n",
    "print('x')\n"
   ]
  },
  {
   "cell_type": "code",
   "execution_count": 141,
   "metadata": {},
   "outputs": [
    {
     "name": "stdout",
     "output_type": "stream",
     "text": [
      "1 Page  : 1 2 Page  : 11 3 Page  : 21 4 Page  : 31 5 Page  : 41 6 Page  : 51 7 Page  : 61 8 Page  : 71 9 Page  : 81 10 Page  : 91 "
     ]
    }
   ],
   "source": [
    "for i in range(0, 10, 1):   #1.11.21.31.41.51.61.71.81.91\n",
    "    print(str(i+1), 'Page ', \":\", str(i*10+1), end=\" \")"
   ]
  },
  {
   "cell_type": "code",
   "execution_count": null,
   "metadata": {},
   "outputs": [],
   "source": []
  }
 ],
 "metadata": {
  "kernelspec": {
   "display_name": "Python 3",
   "language": "python",
   "name": "python3"
  },
  "language_info": {
   "codemirror_mode": {
    "name": "ipython",
    "version": 3
   },
   "file_extension": ".py",
   "mimetype": "text/x-python",
   "name": "python",
   "nbconvert_exporter": "python",
   "pygments_lexer": "ipython3",
   "version": "3.7.3"
  }
 },
 "nbformat": 4,
 "nbformat_minor": 2
}
