{
 "cells": [
  {
   "cell_type": "code",
   "execution_count": 92,
   "metadata": {},
   "outputs": [],
   "source": [
    "from openpyxl import Workbook, load_workbook\n",
    "from openpyxl.styles import Font, Fill\n",
    "import datetime\n",
    "import re\n",
    "import os"
   ]
  },
  {
   "cell_type": "code",
   "execution_count": 93,
   "metadata": {},
   "outputs": [
    {
     "ename": "FileNotFoundError",
     "evalue": "[Errno 2] No such file or directory: 'C:/Job/일일업무_내용_정리.xlsx'",
     "output_type": "error",
     "traceback": [
      "\u001b[1;31m---------------------------------------------------------------------------\u001b[0m",
      "\u001b[1;31mFileNotFoundError\u001b[0m                         Traceback (most recent call last)",
      "\u001b[1;32m<ipython-input-93-297065b993bf>\u001b[0m in \u001b[0;36m<module>\u001b[1;34m\u001b[0m\n\u001b[0;32m      1\u001b[0m \u001b[0mfile_path\u001b[0m \u001b[1;33m=\u001b[0m \u001b[1;34m'C:/Job/일일업무_내용_정리.xlsx'\u001b[0m\u001b[1;33m\u001b[0m\u001b[1;33m\u001b[0m\u001b[0m\n\u001b[1;32m----> 2\u001b[1;33m \u001b[0mwb\u001b[0m \u001b[1;33m=\u001b[0m \u001b[0mload_workbook\u001b[0m\u001b[1;33m(\u001b[0m\u001b[0mfile_path\u001b[0m\u001b[1;33m)\u001b[0m\u001b[1;33m\u001b[0m\u001b[1;33m\u001b[0m\u001b[0m\n\u001b[0m\u001b[0;32m      3\u001b[0m \u001b[0mprint\u001b[0m\u001b[1;33m(\u001b[0m\u001b[0mwb\u001b[0m\u001b[1;33m.\u001b[0m\u001b[0msheetnames\u001b[0m\u001b[1;33m)\u001b[0m\u001b[1;33m\u001b[0m\u001b[1;33m\u001b[0m\u001b[0m\n\u001b[0;32m      4\u001b[0m \u001b[1;31m#wb.save(\"C:/Job/sample.xlsx\")\u001b[0m\u001b[1;33m\u001b[0m\u001b[1;33m\u001b[0m\u001b[1;33m\u001b[0m\u001b[0m\n\u001b[0;32m      5\u001b[0m \u001b[1;31m#wb.close()\u001b[0m\u001b[1;33m\u001b[0m\u001b[1;33m\u001b[0m\u001b[1;33m\u001b[0m\u001b[0m\n",
      "\u001b[1;32mC:\\ProgramData\\Anaconda3\\lib\\site-packages\\openpyxl\\reader\\excel.py\u001b[0m in \u001b[0;36mload_workbook\u001b[1;34m(filename, read_only, keep_vba, data_only, keep_links)\u001b[0m\n\u001b[0;32m    309\u001b[0m     \"\"\"\n\u001b[0;32m    310\u001b[0m     reader = ExcelReader(filename, read_only, keep_vba,\n\u001b[1;32m--> 311\u001b[1;33m                         data_only, keep_links)\n\u001b[0m\u001b[0;32m    312\u001b[0m     \u001b[0mreader\u001b[0m\u001b[1;33m.\u001b[0m\u001b[0mread\u001b[0m\u001b[1;33m(\u001b[0m\u001b[1;33m)\u001b[0m\u001b[1;33m\u001b[0m\u001b[1;33m\u001b[0m\u001b[0m\n\u001b[0;32m    313\u001b[0m     \u001b[1;32mreturn\u001b[0m \u001b[0mreader\u001b[0m\u001b[1;33m.\u001b[0m\u001b[0mwb\u001b[0m\u001b[1;33m\u001b[0m\u001b[1;33m\u001b[0m\u001b[0m\n",
      "\u001b[1;32mC:\\ProgramData\\Anaconda3\\lib\\site-packages\\openpyxl\\reader\\excel.py\u001b[0m in \u001b[0;36m__init__\u001b[1;34m(self, fn, read_only, keep_vba, data_only, keep_links)\u001b[0m\n\u001b[0;32m    124\u001b[0m     def __init__(self,  fn, read_only=False, keep_vba=KEEP_VBA,\n\u001b[0;32m    125\u001b[0m                   data_only=False, keep_links=True):\n\u001b[1;32m--> 126\u001b[1;33m         \u001b[0mself\u001b[0m\u001b[1;33m.\u001b[0m\u001b[0marchive\u001b[0m \u001b[1;33m=\u001b[0m \u001b[0m_validate_archive\u001b[0m\u001b[1;33m(\u001b[0m\u001b[0mfn\u001b[0m\u001b[1;33m)\u001b[0m\u001b[1;33m\u001b[0m\u001b[1;33m\u001b[0m\u001b[0m\n\u001b[0m\u001b[0;32m    127\u001b[0m         \u001b[0mself\u001b[0m\u001b[1;33m.\u001b[0m\u001b[0mvalid_files\u001b[0m \u001b[1;33m=\u001b[0m \u001b[0mself\u001b[0m\u001b[1;33m.\u001b[0m\u001b[0marchive\u001b[0m\u001b[1;33m.\u001b[0m\u001b[0mnamelist\u001b[0m\u001b[1;33m(\u001b[0m\u001b[1;33m)\u001b[0m\u001b[1;33m\u001b[0m\u001b[1;33m\u001b[0m\u001b[0m\n\u001b[0;32m    128\u001b[0m         \u001b[0mself\u001b[0m\u001b[1;33m.\u001b[0m\u001b[0mread_only\u001b[0m \u001b[1;33m=\u001b[0m \u001b[0mread_only\u001b[0m\u001b[1;33m\u001b[0m\u001b[1;33m\u001b[0m\u001b[0m\n",
      "\u001b[1;32mC:\\ProgramData\\Anaconda3\\lib\\site-packages\\openpyxl\\reader\\excel.py\u001b[0m in \u001b[0;36m_validate_archive\u001b[1;34m(filename)\u001b[0m\n\u001b[0;32m     96\u001b[0m             \u001b[1;32mraise\u001b[0m \u001b[0mInvalidFileException\u001b[0m\u001b[1;33m(\u001b[0m\u001b[0mmsg\u001b[0m\u001b[1;33m)\u001b[0m\u001b[1;33m\u001b[0m\u001b[1;33m\u001b[0m\u001b[0m\n\u001b[0;32m     97\u001b[0m \u001b[1;33m\u001b[0m\u001b[0m\n\u001b[1;32m---> 98\u001b[1;33m     \u001b[0marchive\u001b[0m \u001b[1;33m=\u001b[0m \u001b[0mZipFile\u001b[0m\u001b[1;33m(\u001b[0m\u001b[0mfilename\u001b[0m\u001b[1;33m,\u001b[0m \u001b[1;34m'r'\u001b[0m\u001b[1;33m)\u001b[0m\u001b[1;33m\u001b[0m\u001b[1;33m\u001b[0m\u001b[0m\n\u001b[0m\u001b[0;32m     99\u001b[0m     \u001b[1;32mreturn\u001b[0m \u001b[0marchive\u001b[0m\u001b[1;33m\u001b[0m\u001b[1;33m\u001b[0m\u001b[0m\n\u001b[0;32m    100\u001b[0m \u001b[1;33m\u001b[0m\u001b[0m\n",
      "\u001b[1;32mC:\\ProgramData\\Anaconda3\\lib\\zipfile.py\u001b[0m in \u001b[0;36m__init__\u001b[1;34m(self, file, mode, compression, allowZip64, compresslevel)\u001b[0m\n\u001b[0;32m   1202\u001b[0m             \u001b[1;32mwhile\u001b[0m \u001b[1;32mTrue\u001b[0m\u001b[1;33m:\u001b[0m\u001b[1;33m\u001b[0m\u001b[1;33m\u001b[0m\u001b[0m\n\u001b[0;32m   1203\u001b[0m                 \u001b[1;32mtry\u001b[0m\u001b[1;33m:\u001b[0m\u001b[1;33m\u001b[0m\u001b[1;33m\u001b[0m\u001b[0m\n\u001b[1;32m-> 1204\u001b[1;33m                     \u001b[0mself\u001b[0m\u001b[1;33m.\u001b[0m\u001b[0mfp\u001b[0m \u001b[1;33m=\u001b[0m \u001b[0mio\u001b[0m\u001b[1;33m.\u001b[0m\u001b[0mopen\u001b[0m\u001b[1;33m(\u001b[0m\u001b[0mfile\u001b[0m\u001b[1;33m,\u001b[0m \u001b[0mfilemode\u001b[0m\u001b[1;33m)\u001b[0m\u001b[1;33m\u001b[0m\u001b[1;33m\u001b[0m\u001b[0m\n\u001b[0m\u001b[0;32m   1205\u001b[0m                 \u001b[1;32mexcept\u001b[0m \u001b[0mOSError\u001b[0m\u001b[1;33m:\u001b[0m\u001b[1;33m\u001b[0m\u001b[1;33m\u001b[0m\u001b[0m\n\u001b[0;32m   1206\u001b[0m                     \u001b[1;32mif\u001b[0m \u001b[0mfilemode\u001b[0m \u001b[1;32min\u001b[0m \u001b[0mmodeDict\u001b[0m\u001b[1;33m:\u001b[0m\u001b[1;33m\u001b[0m\u001b[1;33m\u001b[0m\u001b[0m\n",
      "\u001b[1;31mFileNotFoundError\u001b[0m: [Errno 2] No such file or directory: 'C:/Job/일일업무_내용_정리.xlsx'"
     ]
    }
   ],
   "source": [
    "file_path = 'C:/Job/일일업무_내용_정리.xlsx'\n",
    "wb = load_workbook(file_path)\n",
    "print(wb.sheetnames)\n",
    "#wb.save(\"C:/Job/sample.xlsx\")\n",
    "#wb.close()"
   ]
  },
  {
   "cell_type": "code",
   "execution_count": 102,
   "metadata": {},
   "outputs": [
    {
     "name": "stdout",
     "output_type": "stream",
     "text": [
      "2019-01-03 00:00:00\n"
     ]
    }
   ],
   "source": [
    "#ws = wb.active\n",
    "ws = wb['Sheet1']\n",
    "print(ws.cell(row = 2, column = 1).value)            "
   ]
  },
  {
   "cell_type": "code",
   "execution_count": 103,
   "metadata": {},
   "outputs": [
    {
     "name": "stdout",
     "output_type": "stream",
     "text": [
      "rows: 79 , cols: 3\n"
     ]
    }
   ],
   "source": [
    "row_cnt = ws.max_row\n",
    "col_cnt = ws.max_column\n",
    "print('rows: %d , cols: %d' % (row_cnt, col_cnt))\n",
    "\n",
    "#ws1 = wb.copy_worksheet(ws) # worksheet copy"
   ]
  },
  {
   "cell_type": "code",
   "execution_count": 104,
   "metadata": {},
   "outputs": [
    {
     "name": "stdout",
     "output_type": "stream",
     "text": [
      "\n",
      "데이터 역이관 요청] (주)태경피엔에스 (206-86-72538)\n",
      "수신자 : 강민수차장, 송용배과장, 황상순대리, IDC운영팀\n",
      "참조: 수신자 제위\n",
      "발신: 김진태 부장\n",
      "\n"
     ]
    }
   ],
   "source": [
    "text = \"\"\"\n",
    "데이터 역이관 요청] (주)태경피엔에스 (206-86-72538)\n",
    "\n",
    "수신자 : 강민수차장, 송용배과장, 황상순대리, IDC운영팀\n",
    "\n",
    "참조: 수신자 제위\n",
    "\n",
    "발신: 김진태 부장\n",
    "\"\"\"\n",
    "pattern = re.compile(r'\\n+')\n",
    "match = re.sub(pattern, '\\n', text) # 빈 줄 제거\n",
    "print(match)"
   ]
  },
  {
   "cell_type": "code",
   "execution_count": 105,
   "metadata": {},
   "outputs": [
    {
     "name": "stdout",
     "output_type": "stream",
     "text": [
      "cel[76:2] : \n",
      "cel[77:2] : \n",
      "cel[78:2] : \n",
      "cel[79:2] : \n"
     ]
    }
   ],
   "source": [
    "for y in range(1, row_cnt):\n",
    "    row_idx = y+1\n",
    "    org_value = ws.cell(row = row_idx, column = 2).value\n",
    "    if org_value:\n",
    "        match = re.sub(pattern, '\\n', org_value) # 빈 줄 제거\n",
    "        # 원본Cell 옆으로 수정본Cell 추가\n",
    "        #ws.cell(row=row_idx, column=3).value = match\n",
    "        # 원본Cell에 바로 수정 반영\n",
    "        ws.cell(row=row_idx, column=2).value = match\n",
    "    else:\n",
    "        print('cel[{0}:{1}] : '.format(row_idx, 2, org_value))\n",
    "    #print(match)\n"
   ]
  },
  {
   "cell_type": "code",
   "execution_count": null,
   "metadata": {},
   "outputs": [],
   "source": [
    "import types\n",
    "for row in ws.rows:\n",
    "    for cell in row:\n",
    "        cell_value = cell.value\n",
    "        if cell_value:\n",
    "            print(type(cell))\n",
    "            \"\"\"\n",
    "            if type(cell.value) == Types.StringType):\n",
    "                print('string')\n",
    "            else:\n",
    "                print(type(cell.value))\n",
    "            \"\"\"\n",
    "            print(\"\"*25)\n",
    "        else:\n",
    "            print(\"*None\")\n"
   ]
  },
  {
   "cell_type": "code",
   "execution_count": 106,
   "metadata": {},
   "outputs": [],
   "source": [
    "wb.save(\"C:/Job/일일업무_내용_정리_.xlsx\")\n",
    "wb.close()"
   ]
  },
  {
   "cell_type": "code",
   "execution_count": 3,
   "metadata": {},
   "outputs": [
    {
     "data": {
      "text/plain": [
       "[]"
      ]
     },
     "execution_count": 3,
     "metadata": {},
     "output_type": "execute_result"
    }
   ],
   "source": [
    "import glob\n",
    "files = glob.glob('*.xls')\n",
    "files"
   ]
  },
  {
   "cell_type": "code",
   "execution_count": 105,
   "metadata": {},
   "outputs": [
    {
     "name": "stdout",
     "output_type": "stream",
     "text": [
      "['Sheet']\n",
      "['openpyxl', 'python']\n"
     ]
    }
   ],
   "source": [
    "data_file_path = 'C:\\\\Users\\\\PRIMEKJT\\\\PycharmProjects\\\\JupyterFolder\\\\'\n",
    "excel_file_name = 'sample.xlsx'\n",
    "\n",
    "wb = Workbook()\n",
    "print(wb.sheetnames)\n",
    "sheet1 = wb.active\n",
    "sheet1.title = 'openpyxl'\n",
    "sheet_temp = wb.create_sheet('python')\n",
    "print(wb.sheetnames)\n",
    "\n",
    "sheet1['a1'] = '날짜'\n",
    "sheet1['a1'].style = 'Title'\n",
    "sheet1['b1'] = '언어'\n",
    "sheet1['b1'].style = 'Headline 1'\n",
    "sheet1['C1'] = '비고'\n",
    "sheet1['C1'].style = 'Headline 2'\n",
    "sheet1['c1'].style = 'Headline 3'\n",
    "\n",
    "sheet1['a2'] = \"_{:%Y%m%d%H%M%S}\".format(datetime.datetime.now())\n",
    "sheet1['b2'] = 'python'\n",
    "sheet1['c2'] = 'http://www.idaegu.co.kr/news/articleView.html?idxno=277743'\n",
    "sheet1['c2'].style = 'Hyperlink'\n",
    "\n",
    "sheet1.cell(3,1).value = '2019.05.17'\n",
    "sheet1.cell(3,2).value = '.net'\n",
    "link = 'http://www.idaegu.co.kr/news/articleView.html?idxno=277743'\n",
    "sheet1.cell(3,3).value = '=HYPERLINK(\"'+ str(link) +'\",\"' + str('기사보기') + '\")';\n",
    "\n",
    "\n",
    "\n",
    "sheet1.cell(4,1).value = '2019.05.17'\n",
    "sheet1.cell(4,2).value = 'java'\n",
    "sheet1.cell(4,3).value = '연결된 기사보기'\n",
    "sheet1.cell(4,3).hyperlink = link\n",
    "sheet1.cell(4,3).style = 'Hyperlink'\n",
    "\n",
    "sheet1.append(['2222.01.01', 'C#', '기사보기 #2'])\n",
    "sheet1.cell(5,3).hyperlink = link\n",
    "sheet1.cell(5,3).style = 'Linked Cell'\n",
    "\n",
    "\"\"\"\n",
    "for row in sheet1.iter_rows(min_row=5, max_col=3, max_row=7):\n",
    "    for cell in row:\n",
    "        print(cell)\n",
    "        \n",
    "for row in range(10, 20):\n",
    "...     for col in range(27, 54):\n",
    "...         _ = ws3.cell(column=col, row=row, value=\"{0}\".format(get_column_letter(col)))        \n",
    "        \n",
    "        \n",
    "\"\"\"\n",
    "\n",
    "# 각 열들의 너비 자동 조정\n",
    "\n",
    "    \n",
    "    \n",
    "column_widths = []\n",
    "for row in sheet1.iter_rows():\n",
    "    for i, cell in enumerate(row):\n",
    "        try:\n",
    "            column_widths[i] = max(column_widths[i], len(cell.value))\n",
    "        except IndexError:\n",
    "            column_widths.append(len(cell.value))\n",
    "\n",
    "#print(column_widths)\n",
    "            \n",
    "for i, column_width in enumerate(column_widths):\n",
    "    column_name = chr(65 + i)\n",
    "    #print(column_name)\n",
    "    sheet1.column_dimensions[column_name].width = column_width    \n",
    "\n",
    "#    sheet1.column_dimensions['a'].width = 100 \n",
    "    \n",
    "    \n",
    "col = sheet1.column_dimensions['A']\n",
    "col.font = Font(bold=True, color=\"0000FF\")\n",
    "row = sheet1.row_dimensions[1]\n",
    "row.font = Font(underline=\"single\")\n",
    "    \n",
    "wb.save(os.path.join(data_file_path, excel_file_name))\n",
    "wb.close()\n"
   ]
  },
  {
   "cell_type": "code",
   "execution_count": 95,
   "metadata": {},
   "outputs": [
    {
     "data": {
      "text/plain": [
       "123"
      ]
     },
     "execution_count": 95,
     "metadata": {},
     "output_type": "execute_result"
    }
   ],
   "source": [
    "123 or \"\""
   ]
  },
  {
   "cell_type": "code",
   "execution_count": 44,
   "metadata": {},
   "outputs": [
    {
     "data": {
      "text/plain": [
       "\"=HYPERLINK('http://www.idaegu.co.kr/news/articleView.html?idxno=277743','기사보기'\""
      ]
     },
     "execution_count": 44,
     "metadata": {},
     "output_type": "execute_result"
    }
   ],
   "source": [
    "'=HYPERLINK(\\'{0}\\',\\'{1}\\''.format(link, '기사보기')"
   ]
  },
  {
   "cell_type": "code",
   "execution_count": null,
   "metadata": {},
   "outputs": [],
   "source": []
  }
 ],
 "metadata": {
  "kernelspec": {
   "display_name": "Python 3",
   "language": "python",
   "name": "python3"
  },
  "language_info": {
   "codemirror_mode": {
    "name": "ipython",
    "version": 3
   },
   "file_extension": ".py",
   "mimetype": "text/x-python",
   "name": "python",
   "nbconvert_exporter": "python",
   "pygments_lexer": "ipython3",
   "version": "3.7.3"
  }
 },
 "nbformat": 4,
 "nbformat_minor": 2
}
