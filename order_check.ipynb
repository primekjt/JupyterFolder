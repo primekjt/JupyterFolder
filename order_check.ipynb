{
 "cells": [
  {
   "cell_type": "code",
   "execution_count": 1,
   "metadata": {},
   "outputs": [],
   "source": [
    "import pandas as pd\n",
    "import xlrd\n",
    "import os\n",
    "import re\n",
    "import datetime"
   ]
  },
  {
   "cell_type": "code",
   "execution_count": 2,
   "metadata": {},
   "outputs": [],
   "source": [
    "def commaParse(num):\n",
    "    return re.sub('(?<=\\d)(?=(\\d{3})+(?!\\d))',',',str(num))"
   ]
  },
  {
   "cell_type": "code",
   "execution_count": 3,
   "metadata": {},
   "outputs": [],
   "source": [
    "DATA_PATH = \"C:\\\\DEV\\\\DATA\\\\\"\n",
    "\n",
    "\"\"\"\n",
    "today = datetime.datetime.today() # datetime.datetime.now\n",
    "yesterday = today + datetime.timedelta(days=-1) # 오늘에서 1일을 빼서 어제를 구한다\n",
    "file_name = \"order\" + yesterday.strftime('%Y%m%d') + \".xlsx\"\n",
    "excel_file = DATA_PATH + file_name\n",
    "\"\"\"\n",
    "\n",
    "excel_file = DATA_PATH + \"order20190401.xlsx\"\n"
   ]
  },
  {
   "cell_type": "code",
   "execution_count": 4,
   "metadata": {},
   "outputs": [],
   "source": [
    "if not os.path.exists(excel_file):\n",
    "    print('실패! ' + excel_file + ' file not found!! ')\n",
    "    print('Exists files :')\n",
    "    print(os.listdir(DATA_PATH))\n",
    "    exit()"
   ]
  },
  {
   "cell_type": "code",
   "execution_count": 5,
   "metadata": {},
   "outputs": [],
   "source": [
    "df = pd.read_excel(excel_file, Sheet_name='Sheet1')"
   ]
  },
  {
   "cell_type": "code",
   "execution_count": 6,
   "metadata": {},
   "outputs": [],
   "source": [
    "read_columns = ['주담당채널', '영업채널명', '영업담당자명', '고객명', '사업자/주민', '주문일자', '주문상태', '주문현황', '납입구분', '상품명', '단위상품명', '공급가', '금액(VAT별도)', '판매유형', '기회시작일' ]"
   ]
  },
  {
   "cell_type": "code",
   "execution_count": 7,
   "metadata": {},
   "outputs": [],
   "source": [
    "df1 = df[read_columns]"
   ]
  },
  {
   "cell_type": "code",
   "execution_count": 8,
   "metadata": {},
   "outputs": [
    {
     "data": {
      "text/plain": [
       "array(['ICUBE 클라우드서버', '기업용 Smart A Cloud edition', 'Smart Office',\n",
       "       'Bizbox Alpha Cloud', 'SmartA Premium Package', 'ICUBE/GW 클라우드서버',\n",
       "       'GW 클라우드서버', nan], dtype=object)"
      ]
     },
     "execution_count": 8,
     "metadata": {},
     "output_type": "execute_result"
    }
   ],
   "source": [
    "df1['상품명'].unique() #상품명 검색"
   ]
  },
  {
   "cell_type": "code",
   "execution_count": 9,
   "metadata": {},
   "outputs": [],
   "source": [
    "product_category = {'ICUBE 클라우드서버', 'GW 클라우드서버', 'ICUBE/GW 클라우드서버', 'ICUBE/IU 클라우드서버', 'IU/GW 클라우드서버', 'Private Cloud'} #집합(중복값 불허)"
   ]
  },
  {
   "cell_type": "code",
   "execution_count": 10,
   "metadata": {},
   "outputs": [],
   "source": [
    "df2 = df1[df1['상품명'].isin(product_category)]"
   ]
  },
  {
   "cell_type": "code",
   "execution_count": 11,
   "metadata": {},
   "outputs": [],
   "source": [
    "groupby_columns_list = ['영업채널명', '영업담당자명', '사업자/주민', '고객명', '상품명', '판매유형', '기회시작일']"
   ]
  },
  {
   "cell_type": "code",
   "execution_count": 12,
   "metadata": {},
   "outputs": [],
   "source": [
    "grouped = df2.groupby(groupby_columns_list)"
   ]
  },
  {
   "cell_type": "code",
   "execution_count": 13,
   "metadata": {},
   "outputs": [],
   "source": [
    "df3 = grouped.sum().reset_index()"
   ]
  },
  {
   "cell_type": "code",
   "execution_count": 14,
   "metadata": {},
   "outputs": [
    {
     "data": {
      "text/html": [
       "<div>\n",
       "<style scoped>\n",
       "    .dataframe tbody tr th:only-of-type {\n",
       "        vertical-align: middle;\n",
       "    }\n",
       "\n",
       "    .dataframe tbody tr th {\n",
       "        vertical-align: top;\n",
       "    }\n",
       "\n",
       "    .dataframe thead th {\n",
       "        text-align: right;\n",
       "    }\n",
       "</style>\n",
       "<table border=\"1\" class=\"dataframe\">\n",
       "  <thead>\n",
       "    <tr style=\"text-align: right;\">\n",
       "      <th></th>\n",
       "      <th>영업채널명</th>\n",
       "      <th>영업담당자명</th>\n",
       "      <th>사업자/주민</th>\n",
       "      <th>고객명</th>\n",
       "      <th>상품명</th>\n",
       "      <th>판매유형</th>\n",
       "      <th>기회시작일</th>\n",
       "      <th>공급가</th>\n",
       "      <th>금액(VAT별도)</th>\n",
       "    </tr>\n",
       "  </thead>\n",
       "  <tbody>\n",
       "    <tr>\n",
       "      <th>0</th>\n",
       "      <td>경기IT코디센터</td>\n",
       "      <td>김세중A</td>\n",
       "      <td>124-81-72532</td>\n",
       "      <td>(주)한양세미텍</td>\n",
       "      <td>ICUBE 클라우드서버</td>\n",
       "      <td>신규</td>\n",
       "      <td>2019-04-24</td>\n",
       "      <td>0</td>\n",
       "      <td>5028000</td>\n",
       "    </tr>\n",
       "    <tr>\n",
       "      <th>1</th>\n",
       "      <td>디엠솔루션</td>\n",
       "      <td>안수민</td>\n",
       "      <td>504-82-17085</td>\n",
       "      <td>재단법인 부산문화회관</td>\n",
       "      <td>ICUBE 클라우드서버</td>\n",
       "      <td>기타</td>\n",
       "      <td>2019-04-24</td>\n",
       "      <td>0</td>\n",
       "      <td>2790000</td>\n",
       "    </tr>\n",
       "    <tr>\n",
       "      <th>2</th>\n",
       "      <td>부산IT코디센터</td>\n",
       "      <td>윤점혁</td>\n",
       "      <td>603-81-36494</td>\n",
       "      <td>(주)아이티씨</td>\n",
       "      <td>ICUBE 클라우드서버</td>\n",
       "      <td>기타</td>\n",
       "      <td>2019-04-24</td>\n",
       "      <td>0</td>\n",
       "      <td>10000000</td>\n",
       "    </tr>\n",
       "    <tr>\n",
       "      <th>3</th>\n",
       "      <td>비즈웰</td>\n",
       "      <td>이우석</td>\n",
       "      <td>722-86-00064</td>\n",
       "      <td>라시따델라모다(주)</td>\n",
       "      <td>ICUBE 클라우드서버</td>\n",
       "      <td>신규</td>\n",
       "      <td>2019-04-24</td>\n",
       "      <td>0</td>\n",
       "      <td>3660000</td>\n",
       "    </tr>\n",
       "    <tr>\n",
       "      <th>4</th>\n",
       "      <td>신원이노베이션</td>\n",
       "      <td>양창훈</td>\n",
       "      <td>214-86-58726</td>\n",
       "      <td>(주)포엠아이</td>\n",
       "      <td>ICUBE/GW 클라우드서버</td>\n",
       "      <td>기타</td>\n",
       "      <td>2019-04-24</td>\n",
       "      <td>0</td>\n",
       "      <td>7080000</td>\n",
       "    </tr>\n",
       "    <tr>\n",
       "      <th>5</th>\n",
       "      <td>유비이앤씨</td>\n",
       "      <td>방상현</td>\n",
       "      <td>131-86-49446</td>\n",
       "      <td>주식회사 아이씨비</td>\n",
       "      <td>GW 클라우드서버</td>\n",
       "      <td>기타</td>\n",
       "      <td>2019-04-24</td>\n",
       "      <td>0</td>\n",
       "      <td>6456000</td>\n",
       "    </tr>\n",
       "  </tbody>\n",
       "</table>\n",
       "</div>"
      ],
      "text/plain": [
       "      영업채널명 영업담당자명        사업자/주민          고객명              상품명 판매유형  \\\n",
       "0  경기IT코디센터   김세중A  124-81-72532     (주)한양세미텍     ICUBE 클라우드서버   신규   \n",
       "1     디엠솔루션    안수민  504-82-17085  재단법인 부산문화회관     ICUBE 클라우드서버   기타   \n",
       "2  부산IT코디센터    윤점혁  603-81-36494      (주)아이티씨     ICUBE 클라우드서버   기타   \n",
       "3       비즈웰    이우석  722-86-00064   라시따델라모다(주)     ICUBE 클라우드서버   신규   \n",
       "4   신원이노베이션    양창훈  214-86-58726      (주)포엠아이  ICUBE/GW 클라우드서버   기타   \n",
       "5     유비이앤씨    방상현  131-86-49446    주식회사 아이씨비        GW 클라우드서버   기타   \n",
       "\n",
       "        기회시작일  공급가  금액(VAT별도)  \n",
       "0  2019-04-24    0    5028000  \n",
       "1  2019-04-24    0    2790000  \n",
       "2  2019-04-24    0   10000000  \n",
       "3  2019-04-24    0    3660000  \n",
       "4  2019-04-24    0    7080000  \n",
       "5  2019-04-24    0    6456000  "
      ]
     },
     "execution_count": 14,
     "metadata": {},
     "output_type": "execute_result"
    }
   ],
   "source": [
    "df3"
   ]
  },
  {
   "cell_type": "code",
   "execution_count": 17,
   "metadata": {},
   "outputs": [
    {
     "name": "stdout",
     "output_type": "stream",
     "text": [
      "6/9/30\n"
     ]
    }
   ],
   "source": [
    "c1 = df3.count(axis=1)\n",
    "#total_rows = df3.count\n",
    "#print(total_rows)\n",
    "\n",
    "#%timeit count_row = df3.shape[0]  # gives number of row count\n",
    "count_row = df3.shape[0]\n",
    "count_col = df3.shape[1]  # gives number of col count\n",
    "print(\"{0}/{1}/{2}\".format(count_row, count_col, len(df2)))"
   ]
  },
  {
   "cell_type": "code",
   "execution_count": null,
   "metadata": {},
   "outputs": [],
   "source": [
    "%timeit count_row = df3.shape[0]"
   ]
  },
  {
   "cell_type": "code",
   "execution_count": null,
   "metadata": {},
   "outputs": [],
   "source": [
    "%timeit len(df3)"
   ]
  },
  {
   "cell_type": "code",
   "execution_count": 18,
   "metadata": {},
   "outputs": [],
   "source": [
    "import re\n",
    "def commaParse(num):\n",
    "    return re.sub('(?<=\\d)(?=(\\d{3})+(?!\\d))',',',str(num))"
   ]
  },
  {
   "cell_type": "code",
   "execution_count": 19,
   "metadata": {},
   "outputs": [
    {
     "name": "stdout",
     "output_type": "stream",
     "text": [
      "- (주)한양세미텍/ICUBE/년5,028,000원/경기IT코디센터/김세중A/신규\n",
      "- 재단법인 부산문화회관/ICUBE/년2,790,000원/디엠솔루션/안수민/기타\n",
      "- (주)아이티씨/ICUBE/년10,000,000원/부산IT코디센터/윤점혁/기타\n",
      "- 라시따델라모다(주)/ICUBE/년3,660,000원/비즈웰/이우석/신규\n",
      "- (주)포엠아이/ICUBE/GW/년7,080,000원/신원이노베이션/양창훈/기타\n",
      "- 주식회사 아이씨비/GW/년6,456,000원/유비이앤씨/방상현/기타\n"
     ]
    }
   ],
   "source": [
    "# 업체명/솔루션/년금액/센터/담당자\n",
    "for row in df3.values:\n",
    "    print(\"- {0}/{1}/년{2}원/{3}/{4}/{5}\".format(row[3], row[4].split()[0], commaParse(row[8]), row[0].split()[0], row[1], row[5]))\n",
    "    "
   ]
  },
  {
   "cell_type": "code",
   "execution_count": null,
   "metadata": {},
   "outputs": [],
   "source": [
    "import datetime"
   ]
  },
  {
   "cell_type": "code",
   "execution_count": null,
   "metadata": {},
   "outputs": [],
   "source": [
    "now = datetime.datetime.now()"
   ]
  },
  {
   "cell_type": "code",
   "execution_count": null,
   "metadata": {},
   "outputs": [],
   "source": [
    "today = datetime.datetime.today()\n",
    "d1 = today.strftime('%Y-%m-%d, %H:%M:%S') #'2019-04-19, 13:31:11'"
   ]
  },
  {
   "cell_type": "code",
   "execution_count": null,
   "metadata": {},
   "outputs": [],
   "source": [
    "DATA_PATH = \"C:\\\\Temp\\\\NsmData\\\\\"\n",
    "today = datetime.datetime.today() # datetime.datetime.now\n",
    "yesterday = today + datetime.timedelta(days=-1) # 오늘에서 1일을 빼서 어제를 구한다\n",
    "file_name = \"order\" + yesterday.strftime('%Y%m%d') + \".xlsx\"\n",
    "excel_file = DATA_PATH + file_name"
   ]
  },
  {
   "cell_type": "code",
   "execution_count": null,
   "metadata": {},
   "outputs": [],
   "source": [
    "print(datetime.datetime.now().strftime('%Y-%m-%d, %H:%M:%S')) #'2019-04-19, 13:31:11'"
   ]
  },
  {
   "cell_type": "code",
   "execution_count": null,
   "metadata": {},
   "outputs": [],
   "source": [
    "today"
   ]
  },
  {
   "cell_type": "code",
   "execution_count": 16,
   "metadata": {},
   "outputs": [],
   "source": [
    "end_time = today - datetime.datetime.now()"
   ]
  },
  {
   "cell_type": "code",
   "execution_count": 27,
   "metadata": {},
   "outputs": [
    {
     "data": {
      "text/plain": [
       "datetime.timedelta(days=-1, seconds=86397, microseconds=408686)"
      ]
     },
     "execution_count": 27,
     "metadata": {},
     "output_type": "execute_result"
    }
   ],
   "source": [
    "end_time"
   ]
  },
  {
   "cell_type": "code",
   "execution_count": 28,
   "metadata": {},
   "outputs": [
    {
     "name": "stdout",
     "output_type": "stream",
     "text": [
      "-1 day, 23:59:57.408686\n"
     ]
    }
   ],
   "source": [
    "print(end_time)"
   ]
  },
  {
   "cell_type": "code",
   "execution_count": 29,
   "metadata": {},
   "outputs": [
    {
     "name": "stdout",
     "output_type": "stream",
     "text": [
      "0:00:04.536076\n"
     ]
    }
   ],
   "source": [
    "print(datetime.datetime.now()-today)"
   ]
  },
  {
   "cell_type": "code",
   "execution_count": 30,
   "metadata": {},
   "outputs": [
    {
     "data": {
      "text/plain": [
       "datetime.datetime(2019, 4, 23, 9, 51, 34, 589772)"
      ]
     },
     "execution_count": 30,
     "metadata": {},
     "output_type": "execute_result"
    }
   ],
   "source": [
    "today"
   ]
  },
  {
   "cell_type": "code",
   "execution_count": null,
   "metadata": {},
   "outputs": [],
   "source": []
  }
 ],
 "metadata": {
  "kernelspec": {
   "display_name": "Python 3",
   "language": "python",
   "name": "python3"
  },
  "language_info": {
   "codemirror_mode": {
    "name": "ipython",
    "version": 3
   },
   "file_extension": ".py",
   "mimetype": "text/x-python",
   "name": "python",
   "nbconvert_exporter": "python",
   "pygments_lexer": "ipython3",
   "version": "3.7.3"
  }
 },
 "nbformat": 4,
 "nbformat_minor": 2
}
