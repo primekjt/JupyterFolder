{
 "cells": [
  {
   "cell_type": "code",
   "execution_count": 13,
   "metadata": {},
   "outputs": [],
   "source": [
    "import os\n",
    "\n",
    "def input_file_path():\n",
    "    cur_dir = os.getcwd()\n",
    "    print('current directory : ' + cur_dir)\n",
    "    print('program exit : \\'x\\' press key or \\'Enter\\' key') \n",
    "    while True:\n",
    "        input_data = input('input source file path : ')\n",
    "        if input_data == 'x' or input_data == '':\n",
    "            break\n",
    "        else:\n",
    "            if os.path.exists(input_data):\n",
    "                #print(input_data)\n",
    "                return input_data\n",
    "            else:\n",
    "                print('file not found : ' + input_data)\n",
    "    return ''"
   ]
  },
  {
   "cell_type": "code",
   "execution_count": 56,
   "metadata": {},
   "outputs": [
    {
     "name": "stdout",
     "output_type": "stream",
     "text": [
      "current directory : C:\\Users\\김진태\\Jupyter_Folder\n",
      "program exit : 'x' press key or 'Enter' key\n"
     ]
    },
    {
     "name": "stdin",
     "output_type": "stream",
     "text": [
      "input source file path :  C:\\Users\\김진태\\Jupyter_Folder\\Data\\5월 재계약 업체 리스트_20190502.xlsx\n"
     ]
    }
   ],
   "source": [
    "file_path = get_file_path() # C:\\Users\\김진태\\Jupyter_Folder\\Data\\5월 재계약 업체 리스트_20190502.xlsx"
   ]
  },
  {
   "cell_type": "code",
   "execution_count": 21,
   "metadata": {},
   "outputs": [
    {
     "name": "stdout",
     "output_type": "stream",
     "text": [
      "====================[  매월 재계약 안내 쪽지 자동작성  ]====================\n"
     ]
    }
   ],
   "source": [
    "print('{0}[{1:^21}]{2}'.format('='*20, '매월 재계약 안내 쪽지 자동작성', '='*20))"
   ]
  },
  {
   "cell_type": "code",
   "execution_count": 68,
   "metadata": {},
   "outputs": [
    {
     "name": "stdout",
     "output_type": "stream",
     "text": [
      "--------------------------------------------------------------------------\n"
     ]
    }
   ],
   "source": [
    "print('-'*74)"
   ]
  },
  {
   "cell_type": "code",
   "execution_count": 51,
   "metadata": {},
   "outputs": [
    {
     "data": {
      "text/plain": [
       "'_20190503135732'"
      ]
     },
     "execution_count": 51,
     "metadata": {},
     "output_type": "execute_result"
    }
   ],
   "source": [
    "from datetime import datetime\n",
    "\"_{:%Y%m%d%H%M%S}\".format(datetime.now())"
   ]
  },
  {
   "cell_type": "code",
   "execution_count": 64,
   "metadata": {},
   "outputs": [],
   "source": [
    "start, ext = os.path.splitext(file_path)"
   ]
  },
  {
   "cell_type": "code",
   "execution_count": 63,
   "metadata": {},
   "outputs": [
    {
     "data": {
      "text/plain": [
       "('C:\\\\Users\\\\김진태\\\\Jupyter_Folder\\\\Data', '5월 재계약 업체 리스트_20190502.xlsx')"
      ]
     },
     "execution_count": 63,
     "metadata": {},
     "output_type": "execute_result"
    }
   ],
   "source": [
    "os.path.split(file_path)"
   ]
  },
  {
   "cell_type": "code",
   "execution_count": 66,
   "metadata": {},
   "outputs": [
    {
     "data": {
      "text/plain": [
       "'.xlsx'"
      ]
     },
     "execution_count": 66,
     "metadata": {},
     "output_type": "execute_result"
    }
   ],
   "source": [
    "ext"
   ]
  },
  {
   "cell_type": "code",
   "execution_count": 11,
   "metadata": {},
   "outputs": [
    {
     "ename": "TypeError",
     "evalue": "get_file() missing 1 required positional argument: 'self'",
     "output_type": "error",
     "traceback": [
      "\u001b[1;31m---------------------------------------------------------------------------\u001b[0m",
      "\u001b[1;31mTypeError\u001b[0m                                 Traceback (most recent call last)",
      "\u001b[1;32m<ipython-input-11-7c036dd8266d>\u001b[0m in \u001b[0;36m<module>\u001b[1;34m\u001b[0m\n\u001b[0;32m      1\u001b[0m \u001b[1;32mimport\u001b[0m \u001b[0mmatplotlib\u001b[0m\u001b[1;33m\u001b[0m\u001b[1;33m\u001b[0m\u001b[0m\n\u001b[1;32m----> 2\u001b[1;33m \u001b[0mmatplotlib\u001b[0m\u001b[1;33m.\u001b[0m\u001b[0mfont_manager\u001b[0m\u001b[1;33m.\u001b[0m\u001b[0mFontProperties\u001b[0m\u001b[1;33m.\u001b[0m\u001b[0mget_file\u001b[0m\u001b[1;33m(\u001b[0m\u001b[1;33m)\u001b[0m\u001b[1;33m\u001b[0m\u001b[1;33m\u001b[0m\u001b[0m\n\u001b[0m",
      "\u001b[1;31mTypeError\u001b[0m: get_file() missing 1 required positional argument: 'self'"
     ]
    }
   ],
   "source": [
    "import matplotlib\n",
    "matplotlib.font_manager.FontProperties.get_file()"
   ]
  },
  {
   "cell_type": "code",
   "execution_count": 7,
   "metadata": {},
   "outputs": [
    {
     "data": {
      "text/plain": [
       "['FontEntry',\n",
       " 'FontManager',\n",
       " 'FontProperties',\n",
       " 'JSONEncoder',\n",
       " 'MSFolders',\n",
       " 'MSFontDirectories',\n",
       " 'OSXFontDirectories',\n",
       " 'OSXInstalledFonts',\n",
       " 'Path',\n",
       " 'TempCache',\n",
       " 'Timer',\n",
       " 'USE_FONTCONFIG',\n",
       " 'X11FontDirectories',\n",
       " '__builtins__',\n",
       " '__cached__',\n",
       " '__doc__',\n",
       " '__file__',\n",
       " '__loader__',\n",
       " '__name__',\n",
       " '__package__',\n",
       " '__spec__',\n",
       " '_call_fc_list',\n",
       " '_fmcache',\n",
       " '_get_font',\n",
       " '_json_decode',\n",
       " '_log',\n",
       " '_normalize_font_family',\n",
       " '_rebuild',\n",
       " 'afm',\n",
       " 'afmFontProperty',\n",
       " 'cachedir',\n",
       " 'cbook',\n",
       " 'createFontList',\n",
       " 'findSystemFonts',\n",
       " 'findfont',\n",
       " 'fontManager',\n",
       " 'font_family_aliases',\n",
       " 'font_scalings',\n",
       " 'ft2font',\n",
       " 'generate_fontconfig_pattern',\n",
       " 'get_cachedir',\n",
       " 'get_font',\n",
       " 'get_fontconfig_fonts',\n",
       " 'get_fontext_synonyms',\n",
       " 'is_opentype_cff_font',\n",
       " 'json',\n",
       " 'json_dump',\n",
       " 'json_load',\n",
       " 'list_fonts',\n",
       " 'logging',\n",
       " 'lru_cache',\n",
       " 'mpl',\n",
       " 'os',\n",
       " 'parse_fontconfig_pattern',\n",
       " 'rcParams',\n",
       " 'stretch_dict',\n",
       " 'subprocess',\n",
       " 'sys',\n",
       " 'ttfFontProperty',\n",
       " 'warnings',\n",
       " 'weight_dict',\n",
       " 'win32FontDirectory',\n",
       " 'win32InstalledFonts']"
      ]
     },
     "execution_count": 7,
     "metadata": {},
     "output_type": "execute_result"
    }
   ],
   "source": [
    "dir(matplotlib.font_manager)"
   ]
  },
  {
   "cell_type": "code",
   "execution_count": null,
   "metadata": {},
   "outputs": [],
   "source": []
  }
 ],
 "metadata": {
  "kernelspec": {
   "display_name": "Python 3",
   "language": "python",
   "name": "python3"
  },
  "language_info": {
   "codemirror_mode": {
    "name": "ipython",
    "version": 3
   },
   "file_extension": ".py",
   "mimetype": "text/x-python",
   "name": "python",
   "nbconvert_exporter": "python",
   "pygments_lexer": "ipython3",
   "version": "3.7.3"
  }
 },
 "nbformat": 4,
 "nbformat_minor": 2
}
