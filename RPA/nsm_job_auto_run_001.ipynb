{
 "cells": [
  {
   "cell_type": "code",
   "execution_count": 1,
   "metadata": {},
   "outputs": [
    {
     "name": "stdout",
     "output_type": "stream",
     "text": [
      "Screen size : width(1280) , height(1024)\n"
     ]
    }
   ],
   "source": [
    "import pyautogui\n",
    "import os\n",
    "import sys\n",
    "import time\n",
    "import datetime\n",
    "import pyperclip\n",
    "\n",
    "# setting fail safes\n",
    "pyautogui.FAIL_SAFE = True\n",
    "pyautogui.PAUSE = 1\n",
    "# move mouse pointer to center of screen\n",
    "screenWidth, screenHeight = pyautogui.size()\n",
    "print('Screen size : width(%d) , height(%d)' %(screenWidth, screenHeight))\n",
    "#pyautogui.moveTo(screenWidth/2, screenHeight/2)"
   ]
  },
  {
   "cell_type": "code",
   "execution_count": 2,
   "metadata": {},
   "outputs": [],
   "source": [
    "pyautogui.moveTo(1118, 143)   # maximize\n",
    "pyautogui.click()\n",
    "#pyautogui.moveTo(1250, 8)   # minimize\n",
    "#pyautogui.click()"
   ]
  },
  {
   "cell_type": "code",
   "execution_count": 83,
   "metadata": {},
   "outputs": [],
   "source": [
    "\"\"\"\n",
    "pyautogui.moveTo(93, 863)   # 수발주관리 \n",
    "pyautogui.click()\n",
    "pyautogui.moveTo(9, 345)   # 보고서 \n",
    "pyautogui.click()\n",
    "pyautogui.moveTo(45, 470)   # 주문고객현황\n",
    "pyautogui.click()\n",
    "\"\"\"\n",
    "pyautogui.click(x=93, y=863)   # 수발주관리\n",
    "pyautogui.click(x=9, y=345)   # 보고서\n",
    "pyautogui.click(x=45, y=470)   # 주문고객현황\n"
   ]
  },
  {
   "cell_type": "code",
   "execution_count": 84,
   "metadata": {},
   "outputs": [],
   "source": [
    "pyautogui.moveTo(307, 156)   # 나의 주문\n",
    "pyautogui.click()\n",
    "pyautogui.moveRel(None, 54)  # 전체 주문\n",
    "pyautogui.click()\n",
    "pyautogui.moveTo(441, 174)   # 대분류\n",
    "pyautogui.click()\n",
    "pyautogui.moveRel(None, 65)  # IDC서비스\n",
    "pyautogui.click()\n",
    "pyautogui.moveTo(589, 174)   # 중분류\n",
    "pyautogui.click()\n",
    "pyautogui.moveRel(None, 18)  # IDC서비스\n",
    "pyautogui.click()"
   ]
  },
  {
   "cell_type": "code",
   "execution_count": 3,
   "metadata": {},
   "outputs": [],
   "source": [
    "today = datetime.datetime.today() # datetime.datetime.now\n",
    "yesterday = today + datetime.timedelta(days = -1) # 오늘에서 1일을 빼서 어제를 구한다\n",
    "type_day = yesterday.strftime('%Y%m%d')\n",
    "\n",
    "pyautogui.moveTo(789, 174)   # 주문일 from\n",
    "pyautogui.click()\n",
    "pyautogui.typewrite(type_day, interval=0.25)\n",
    "pyautogui.moveTo(918, 174)   # 주문일 to\n",
    "pyautogui.click()\n",
    "pyautogui.typewrite(type_day, interval=0.25)\n",
    "\n",
    "pyautogui.moveTo(304, 47)   # 조회\n",
    "pyautogui.click()"
   ]
  },
  {
   "cell_type": "code",
   "execution_count": 19,
   "metadata": {},
   "outputs": [],
   "source": [
    "pyautogui.moveTo(758, 47)   # 엑셀 저장\n",
    "#pyautogui.moveRel(455, None)   # 엑셀 저장\n",
    "pyautogui.click()\n",
    "pyautogui.press(['tab', 'enter'])   # NSM 'Excel 파일을 저장하시겠습니까?' -> 아니오(N)\n",
    "\n",
    "pyautogui.click(x=640, y=10)   # excel 'File' setFocus\n",
    "\n",
    "pyautogui.hotkey('alt', 'f2')   # 다른 이름으로 저장\n",
    "#save_file_name = 'order_' + type_day\n",
    "save_file_name = '000_' + type_day\n",
    "pyautogui.typewrite(save_file_name, interval=0.25)   #999\n",
    "#pyautogui.typewrite(['a', 'b', 'c'])\n",
    "pyautogui.press('enter')    # 저장(S)\n",
    "try:\n",
    "#  주의) Sheet1.xlsx 기존 파일이 있어 덮어 쓰기를 한다.\n",
    "    pyautogui.press(['tab', 'enter'])    # 다른 이름으로 저장 확인 -> 예(Y) -> enter\n",
    "except Exception as ex:\n",
    "    print(ex)\n",
    "    pyautogui.click(x=640, y=10)   # excel 'File' setFocus\n",
    "pyautogui.hotkey('ctrl', 'f12')   # 열기"
   ]
  },
  {
   "cell_type": "code",
   "execution_count": 17,
   "metadata": {},
   "outputs": [],
   "source": [
    "pyautogui.click(x=640, y=10)   # excel 'File' setFocus\n",
    "pyautogui.hotkey('ctrl', 'f12')   # 열기\n",
    "pyautogui.click(x=222, y=141)   # excel File select\n",
    "pyautogui.hotkey('ctrl', 'c')   # 클립보드 복사\n",
    "pyautogui.hotkey('alt', 'f4')    # '열기' 창 종료\n",
    "\n",
    "pyautogui.hotkey('alt', 'f4')    # 'excel' 창 종료"
   ]
  },
  {
   "cell_type": "code",
   "execution_count": 32,
   "metadata": {},
   "outputs": [],
   "source": [
    "\n",
    "pyperclip.copy('sometext한글12345')\n",
    "pyautogui.click(x=260, y=450)   # excel 'File' setFocus\n",
    "pyautogui.hotkey('ctrl', 'v', interval = 0.15)\n",
    "\n"
   ]
  },
  {
   "cell_type": "code",
   "execution_count": 34,
   "metadata": {},
   "outputs": [
    {
     "data": {
      "text/plain": [
       "Point(x=711, y=541)"
      ]
     },
     "execution_count": 34,
     "metadata": {},
     "output_type": "execute_result"
    }
   ],
   "source": [
    "#pyautogui.moveTo(455, 47)   # 조회\n",
    "pyautogui.position()"
   ]
  },
  {
   "cell_type": "code",
   "execution_count": 28,
   "metadata": {},
   "outputs": [
    {
     "ename": "ModuleNotFoundError",
     "evalue": "No module named 'clipboard'",
     "output_type": "error",
     "traceback": [
      "\u001b[1;31m---------------------------------------------------------------------------\u001b[0m",
      "\u001b[1;31mModuleNotFoundError\u001b[0m                       Traceback (most recent call last)",
      "\u001b[1;32m<ipython-input-28-f47e8104ef16>\u001b[0m in \u001b[0;36m<module>\u001b[1;34m\u001b[0m\n\u001b[1;32m----> 1\u001b[1;33m \u001b[1;32mimport\u001b[0m \u001b[0mclipboard\u001b[0m\u001b[1;33m\u001b[0m\u001b[1;33m\u001b[0m\u001b[0m\n\u001b[0m",
      "\u001b[1;31mModuleNotFoundError\u001b[0m: No module named 'clipboard'"
     ]
    }
   ],
   "source": [
    "import clipboard"
   ]
  },
  {
   "cell_type": "code",
   "execution_count": 7,
   "metadata": {},
   "outputs": [
    {
     "ename": "SyntaxError",
     "evalue": "invalid syntax (<ipython-input-7-06bedf0dca67>, line 1)",
     "output_type": "error",
     "traceback": [
      "\u001b[1;36m  File \u001b[1;32m\"<ipython-input-7-06bedf0dca67>\"\u001b[1;36m, line \u001b[1;32m1\u001b[0m\n\u001b[1;33m    마우스 이동\u001b[0m\n\u001b[1;37m         ^\u001b[0m\n\u001b[1;31mSyntaxError\u001b[0m\u001b[1;31m:\u001b[0m invalid syntax\n"
     ]
    }
   ],
   "source": [
    "마우스 이동\n",
    "#목표 좌표까지 처음엔 천천히 마지막엔 빠르게 움직임. 총 소요시간 2초\n",
    "pyautogui.moveTo(100, 100, duration=2, pyautogui.easeInQuad)     \n",
    "#목표 좌표까지 처음엔 빠르게 마지막엔 천천히 움직임. 총 소요시간 2초\n",
    "pyautogui.moveTo(100, 100, duration=2, pyautogui.easeOutQuad)\n",
    "#목표 좌표까지 처음,마지막 빠르게 중간은 천천히 움직임. 총 소요시간 2초\n",
    "pyautogui.moveTo(100, 100, duration=2, pyautogui.easeInOutQuad) \n",
    "#목표 좌표까지 왔다갔다 움직임\n",
    "pyautogui.moveTo(100, 100, duration=2, pyautogui.easeInBounce)   \n",
    "pyautogui.moveTo(100, 100, 2, pyautogui.easeInElastic)  \n",
    "\n"
   ]
  },
  {
   "cell_type": "code",
   "execution_count": null,
   "metadata": {},
   "outputs": [],
   "source": []
  }
 ],
 "metadata": {
  "kernelspec": {
   "display_name": "Python 3",
   "language": "python",
   "name": "python3"
  },
  "language_info": {
   "codemirror_mode": {
    "name": "ipython",
    "version": 3
   },
   "file_extension": ".py",
   "mimetype": "text/x-python",
   "name": "python",
   "nbconvert_exporter": "python",
   "pygments_lexer": "ipython3",
   "version": "3.7.3"
  }
 },
 "nbformat": 4,
 "nbformat_minor": 2
}
